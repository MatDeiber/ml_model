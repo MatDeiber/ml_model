{
 "cells": [
  {
   "cell_type": "code",
   "execution_count": 1,
   "metadata": {},
   "outputs": [],
   "source": [
    "from ml_model.data import get_data\n",
    "from sklearn import set_config; set_config(display='diagram')\n",
    "import pandas as pd\n",
    "%load_ext autoreload\n",
    "%autoreload 2"
   ]
  },
  {
   "cell_type": "code",
   "execution_count": 3,
   "metadata": {},
   "outputs": [
    {
     "ename": "FileNotFoundError",
     "evalue": "[Errno 2] No such file or directory: '../ml_model/data/database_with_artifical_values.csv'",
     "output_type": "error",
     "traceback": [
      "\u001b[0;31m---------------------------------------------------------------------------\u001b[0m",
      "\u001b[0;31mFileNotFoundError\u001b[0m                         Traceback (most recent call last)",
      "Input \u001b[0;32mIn [3]\u001b[0m, in \u001b[0;36m<module>\u001b[0;34m\u001b[0m\n\u001b[1;32m      1\u001b[0m fname \u001b[38;5;241m=\u001b[39m \u001b[38;5;124m'\u001b[39m\u001b[38;5;124m./ml_model/data/database_with_artifical_values.csv\u001b[39m\u001b[38;5;124m'\u001b[39m\n\u001b[0;32m----> 3\u001b[0m X_train, X_test, y_train, y_test \u001b[38;5;241m=\u001b[39m \u001b[43mget_data\u001b[49m\u001b[43m(\u001b[49m\u001b[43m)\u001b[49m\n",
      "File \u001b[0;32m/mnt/d/Project/Coastal_Web_App/ml_model/ml_model/data.py:5\u001b[0m, in \u001b[0;36mget_data\u001b[0;34m()\u001b[0m\n\u001b[1;32m      4\u001b[0m \u001b[38;5;28;01mdef\u001b[39;00m \u001b[38;5;21mget_data\u001b[39m():\n\u001b[0;32m----> 5\u001b[0m     coastal_data \u001b[38;5;241m=\u001b[39m \u001b[43mpd\u001b[49m\u001b[38;5;241;43m.\u001b[39;49m\u001b[43mread_csv\u001b[49m\u001b[43m(\u001b[49m\u001b[38;5;124;43m'\u001b[39;49m\u001b[38;5;124;43m../ml_model/data/database_with_artifical_values.csv\u001b[39;49m\u001b[38;5;124;43m'\u001b[39;49m\u001b[43m,\u001b[49m\u001b[43m \u001b[49m\u001b[43mindex_col\u001b[49m\u001b[38;5;241;43m=\u001b[39;49m\u001b[38;5;124;43m'\u001b[39;49m\u001b[38;5;124;43mId\u001b[39;49m\u001b[38;5;124;43m'\u001b[39;49m\u001b[43m)\u001b[49m\n\u001b[1;32m      7\u001b[0m     X \u001b[38;5;241m=\u001b[39m coastal_data\u001b[38;5;241m.\u001b[39mdrop(columns \u001b[38;5;241m=\u001b[39m [\u001b[38;5;124m'\u001b[39m\u001b[38;5;124mDamage [\u001b[39m\u001b[38;5;124m%\u001b[39m\u001b[38;5;124m]\u001b[39m\u001b[38;5;124m'\u001b[39m], axis \u001b[38;5;241m=\u001b[39m \u001b[38;5;241m1\u001b[39m)\n\u001b[1;32m      8\u001b[0m     y \u001b[38;5;241m=\u001b[39m coastal_data[\u001b[38;5;124m'\u001b[39m\u001b[38;5;124mDamage [\u001b[39m\u001b[38;5;124m%\u001b[39m\u001b[38;5;124m]\u001b[39m\u001b[38;5;124m'\u001b[39m]\n",
      "File \u001b[0;32m~/.pyenv/versions/3.8.12/envs/coastal_app/lib/python3.8/site-packages/pandas/util/_decorators.py:311\u001b[0m, in \u001b[0;36mdeprecate_nonkeyword_arguments.<locals>.decorate.<locals>.wrapper\u001b[0;34m(*args, **kwargs)\u001b[0m\n\u001b[1;32m    305\u001b[0m \u001b[38;5;28;01mif\u001b[39;00m \u001b[38;5;28mlen\u001b[39m(args) \u001b[38;5;241m>\u001b[39m num_allow_args:\n\u001b[1;32m    306\u001b[0m     warnings\u001b[38;5;241m.\u001b[39mwarn(\n\u001b[1;32m    307\u001b[0m         msg\u001b[38;5;241m.\u001b[39mformat(arguments\u001b[38;5;241m=\u001b[39marguments),\n\u001b[1;32m    308\u001b[0m         \u001b[38;5;167;01mFutureWarning\u001b[39;00m,\n\u001b[1;32m    309\u001b[0m         stacklevel\u001b[38;5;241m=\u001b[39mstacklevel,\n\u001b[1;32m    310\u001b[0m     )\n\u001b[0;32m--> 311\u001b[0m \u001b[38;5;28;01mreturn\u001b[39;00m \u001b[43mfunc\u001b[49m\u001b[43m(\u001b[49m\u001b[38;5;241;43m*\u001b[39;49m\u001b[43margs\u001b[49m\u001b[43m,\u001b[49m\u001b[43m \u001b[49m\u001b[38;5;241;43m*\u001b[39;49m\u001b[38;5;241;43m*\u001b[39;49m\u001b[43mkwargs\u001b[49m\u001b[43m)\u001b[49m\n",
      "File \u001b[0;32m~/.pyenv/versions/3.8.12/envs/coastal_app/lib/python3.8/site-packages/pandas/io/parsers/readers.py:586\u001b[0m, in \u001b[0;36mread_csv\u001b[0;34m(filepath_or_buffer, sep, delimiter, header, names, index_col, usecols, squeeze, prefix, mangle_dupe_cols, dtype, engine, converters, true_values, false_values, skipinitialspace, skiprows, skipfooter, nrows, na_values, keep_default_na, na_filter, verbose, skip_blank_lines, parse_dates, infer_datetime_format, keep_date_col, date_parser, dayfirst, cache_dates, iterator, chunksize, compression, thousands, decimal, lineterminator, quotechar, quoting, doublequote, escapechar, comment, encoding, encoding_errors, dialect, error_bad_lines, warn_bad_lines, on_bad_lines, delim_whitespace, low_memory, memory_map, float_precision, storage_options)\u001b[0m\n\u001b[1;32m    571\u001b[0m kwds_defaults \u001b[38;5;241m=\u001b[39m _refine_defaults_read(\n\u001b[1;32m    572\u001b[0m     dialect,\n\u001b[1;32m    573\u001b[0m     delimiter,\n\u001b[0;32m   (...)\u001b[0m\n\u001b[1;32m    582\u001b[0m     defaults\u001b[38;5;241m=\u001b[39m{\u001b[38;5;124m\"\u001b[39m\u001b[38;5;124mdelimiter\u001b[39m\u001b[38;5;124m\"\u001b[39m: \u001b[38;5;124m\"\u001b[39m\u001b[38;5;124m,\u001b[39m\u001b[38;5;124m\"\u001b[39m},\n\u001b[1;32m    583\u001b[0m )\n\u001b[1;32m    584\u001b[0m kwds\u001b[38;5;241m.\u001b[39mupdate(kwds_defaults)\n\u001b[0;32m--> 586\u001b[0m \u001b[38;5;28;01mreturn\u001b[39;00m \u001b[43m_read\u001b[49m\u001b[43m(\u001b[49m\u001b[43mfilepath_or_buffer\u001b[49m\u001b[43m,\u001b[49m\u001b[43m \u001b[49m\u001b[43mkwds\u001b[49m\u001b[43m)\u001b[49m\n",
      "File \u001b[0;32m~/.pyenv/versions/3.8.12/envs/coastal_app/lib/python3.8/site-packages/pandas/io/parsers/readers.py:482\u001b[0m, in \u001b[0;36m_read\u001b[0;34m(filepath_or_buffer, kwds)\u001b[0m\n\u001b[1;32m    479\u001b[0m _validate_names(kwds\u001b[38;5;241m.\u001b[39mget(\u001b[38;5;124m\"\u001b[39m\u001b[38;5;124mnames\u001b[39m\u001b[38;5;124m\"\u001b[39m, \u001b[38;5;28;01mNone\u001b[39;00m))\n\u001b[1;32m    481\u001b[0m \u001b[38;5;66;03m# Create the parser.\u001b[39;00m\n\u001b[0;32m--> 482\u001b[0m parser \u001b[38;5;241m=\u001b[39m \u001b[43mTextFileReader\u001b[49m\u001b[43m(\u001b[49m\u001b[43mfilepath_or_buffer\u001b[49m\u001b[43m,\u001b[49m\u001b[43m \u001b[49m\u001b[38;5;241;43m*\u001b[39;49m\u001b[38;5;241;43m*\u001b[39;49m\u001b[43mkwds\u001b[49m\u001b[43m)\u001b[49m\n\u001b[1;32m    484\u001b[0m \u001b[38;5;28;01mif\u001b[39;00m chunksize \u001b[38;5;129;01mor\u001b[39;00m iterator:\n\u001b[1;32m    485\u001b[0m     \u001b[38;5;28;01mreturn\u001b[39;00m parser\n",
      "File \u001b[0;32m~/.pyenv/versions/3.8.12/envs/coastal_app/lib/python3.8/site-packages/pandas/io/parsers/readers.py:811\u001b[0m, in \u001b[0;36mTextFileReader.__init__\u001b[0;34m(self, f, engine, **kwds)\u001b[0m\n\u001b[1;32m    808\u001b[0m \u001b[38;5;28;01mif\u001b[39;00m \u001b[38;5;124m\"\u001b[39m\u001b[38;5;124mhas_index_names\u001b[39m\u001b[38;5;124m\"\u001b[39m \u001b[38;5;129;01min\u001b[39;00m kwds:\n\u001b[1;32m    809\u001b[0m     \u001b[38;5;28mself\u001b[39m\u001b[38;5;241m.\u001b[39moptions[\u001b[38;5;124m\"\u001b[39m\u001b[38;5;124mhas_index_names\u001b[39m\u001b[38;5;124m\"\u001b[39m] \u001b[38;5;241m=\u001b[39m kwds[\u001b[38;5;124m\"\u001b[39m\u001b[38;5;124mhas_index_names\u001b[39m\u001b[38;5;124m\"\u001b[39m]\n\u001b[0;32m--> 811\u001b[0m \u001b[38;5;28mself\u001b[39m\u001b[38;5;241m.\u001b[39m_engine \u001b[38;5;241m=\u001b[39m \u001b[38;5;28;43mself\u001b[39;49m\u001b[38;5;241;43m.\u001b[39;49m\u001b[43m_make_engine\u001b[49m\u001b[43m(\u001b[49m\u001b[38;5;28;43mself\u001b[39;49m\u001b[38;5;241;43m.\u001b[39;49m\u001b[43mengine\u001b[49m\u001b[43m)\u001b[49m\n",
      "File \u001b[0;32m~/.pyenv/versions/3.8.12/envs/coastal_app/lib/python3.8/site-packages/pandas/io/parsers/readers.py:1040\u001b[0m, in \u001b[0;36mTextFileReader._make_engine\u001b[0;34m(self, engine)\u001b[0m\n\u001b[1;32m   1036\u001b[0m     \u001b[38;5;28;01mraise\u001b[39;00m \u001b[38;5;167;01mValueError\u001b[39;00m(\n\u001b[1;32m   1037\u001b[0m         \u001b[38;5;124mf\u001b[39m\u001b[38;5;124m\"\u001b[39m\u001b[38;5;124mUnknown engine: \u001b[39m\u001b[38;5;132;01m{\u001b[39;00mengine\u001b[38;5;132;01m}\u001b[39;00m\u001b[38;5;124m (valid options are \u001b[39m\u001b[38;5;132;01m{\u001b[39;00mmapping\u001b[38;5;241m.\u001b[39mkeys()\u001b[38;5;132;01m}\u001b[39;00m\u001b[38;5;124m)\u001b[39m\u001b[38;5;124m\"\u001b[39m\n\u001b[1;32m   1038\u001b[0m     )\n\u001b[1;32m   1039\u001b[0m \u001b[38;5;66;03m# error: Too many arguments for \"ParserBase\"\u001b[39;00m\n\u001b[0;32m-> 1040\u001b[0m \u001b[38;5;28;01mreturn\u001b[39;00m \u001b[43mmapping\u001b[49m\u001b[43m[\u001b[49m\u001b[43mengine\u001b[49m\u001b[43m]\u001b[49m\u001b[43m(\u001b[49m\u001b[38;5;28;43mself\u001b[39;49m\u001b[38;5;241;43m.\u001b[39;49m\u001b[43mf\u001b[49m\u001b[43m,\u001b[49m\u001b[43m \u001b[49m\u001b[38;5;241;43m*\u001b[39;49m\u001b[38;5;241;43m*\u001b[39;49m\u001b[38;5;28;43mself\u001b[39;49m\u001b[38;5;241;43m.\u001b[39;49m\u001b[43moptions\u001b[49m\u001b[43m)\u001b[49m\n",
      "File \u001b[0;32m~/.pyenv/versions/3.8.12/envs/coastal_app/lib/python3.8/site-packages/pandas/io/parsers/c_parser_wrapper.py:51\u001b[0m, in \u001b[0;36mCParserWrapper.__init__\u001b[0;34m(self, src, **kwds)\u001b[0m\n\u001b[1;32m     48\u001b[0m kwds[\u001b[38;5;124m\"\u001b[39m\u001b[38;5;124musecols\u001b[39m\u001b[38;5;124m\"\u001b[39m] \u001b[38;5;241m=\u001b[39m \u001b[38;5;28mself\u001b[39m\u001b[38;5;241m.\u001b[39musecols\n\u001b[1;32m     50\u001b[0m \u001b[38;5;66;03m# open handles\u001b[39;00m\n\u001b[0;32m---> 51\u001b[0m \u001b[38;5;28;43mself\u001b[39;49m\u001b[38;5;241;43m.\u001b[39;49m\u001b[43m_open_handles\u001b[49m\u001b[43m(\u001b[49m\u001b[43msrc\u001b[49m\u001b[43m,\u001b[49m\u001b[43m \u001b[49m\u001b[43mkwds\u001b[49m\u001b[43m)\u001b[49m\n\u001b[1;32m     52\u001b[0m \u001b[38;5;28;01massert\u001b[39;00m \u001b[38;5;28mself\u001b[39m\u001b[38;5;241m.\u001b[39mhandles \u001b[38;5;129;01mis\u001b[39;00m \u001b[38;5;129;01mnot\u001b[39;00m \u001b[38;5;28;01mNone\u001b[39;00m\n\u001b[1;32m     54\u001b[0m \u001b[38;5;66;03m# Have to pass int, would break tests using TextReader directly otherwise :(\u001b[39;00m\n",
      "File \u001b[0;32m~/.pyenv/versions/3.8.12/envs/coastal_app/lib/python3.8/site-packages/pandas/io/parsers/base_parser.py:222\u001b[0m, in \u001b[0;36mParserBase._open_handles\u001b[0;34m(self, src, kwds)\u001b[0m\n\u001b[1;32m    218\u001b[0m \u001b[38;5;28;01mdef\u001b[39;00m \u001b[38;5;21m_open_handles\u001b[39m(\u001b[38;5;28mself\u001b[39m, src: FilePathOrBuffer, kwds: \u001b[38;5;28mdict\u001b[39m[\u001b[38;5;28mstr\u001b[39m, Any]) \u001b[38;5;241m-\u001b[39m\u001b[38;5;241m>\u001b[39m \u001b[38;5;28;01mNone\u001b[39;00m:\n\u001b[1;32m    219\u001b[0m     \u001b[38;5;124;03m\"\"\"\u001b[39;00m\n\u001b[1;32m    220\u001b[0m \u001b[38;5;124;03m    Let the readers open IOHandles after they are done with their potential raises.\u001b[39;00m\n\u001b[1;32m    221\u001b[0m \u001b[38;5;124;03m    \"\"\"\u001b[39;00m\n\u001b[0;32m--> 222\u001b[0m     \u001b[38;5;28mself\u001b[39m\u001b[38;5;241m.\u001b[39mhandles \u001b[38;5;241m=\u001b[39m \u001b[43mget_handle\u001b[49m\u001b[43m(\u001b[49m\n\u001b[1;32m    223\u001b[0m \u001b[43m        \u001b[49m\u001b[43msrc\u001b[49m\u001b[43m,\u001b[49m\n\u001b[1;32m    224\u001b[0m \u001b[43m        \u001b[49m\u001b[38;5;124;43m\"\u001b[39;49m\u001b[38;5;124;43mr\u001b[39;49m\u001b[38;5;124;43m\"\u001b[39;49m\u001b[43m,\u001b[49m\n\u001b[1;32m    225\u001b[0m \u001b[43m        \u001b[49m\u001b[43mencoding\u001b[49m\u001b[38;5;241;43m=\u001b[39;49m\u001b[43mkwds\u001b[49m\u001b[38;5;241;43m.\u001b[39;49m\u001b[43mget\u001b[49m\u001b[43m(\u001b[49m\u001b[38;5;124;43m\"\u001b[39;49m\u001b[38;5;124;43mencoding\u001b[39;49m\u001b[38;5;124;43m\"\u001b[39;49m\u001b[43m,\u001b[49m\u001b[43m \u001b[49m\u001b[38;5;28;43;01mNone\u001b[39;49;00m\u001b[43m)\u001b[49m\u001b[43m,\u001b[49m\n\u001b[1;32m    226\u001b[0m \u001b[43m        \u001b[49m\u001b[43mcompression\u001b[49m\u001b[38;5;241;43m=\u001b[39;49m\u001b[43mkwds\u001b[49m\u001b[38;5;241;43m.\u001b[39;49m\u001b[43mget\u001b[49m\u001b[43m(\u001b[49m\u001b[38;5;124;43m\"\u001b[39;49m\u001b[38;5;124;43mcompression\u001b[39;49m\u001b[38;5;124;43m\"\u001b[39;49m\u001b[43m,\u001b[49m\u001b[43m \u001b[49m\u001b[38;5;28;43;01mNone\u001b[39;49;00m\u001b[43m)\u001b[49m\u001b[43m,\u001b[49m\n\u001b[1;32m    227\u001b[0m \u001b[43m        \u001b[49m\u001b[43mmemory_map\u001b[49m\u001b[38;5;241;43m=\u001b[39;49m\u001b[43mkwds\u001b[49m\u001b[38;5;241;43m.\u001b[39;49m\u001b[43mget\u001b[49m\u001b[43m(\u001b[49m\u001b[38;5;124;43m\"\u001b[39;49m\u001b[38;5;124;43mmemory_map\u001b[39;49m\u001b[38;5;124;43m\"\u001b[39;49m\u001b[43m,\u001b[49m\u001b[43m \u001b[49m\u001b[38;5;28;43;01mFalse\u001b[39;49;00m\u001b[43m)\u001b[49m\u001b[43m,\u001b[49m\n\u001b[1;32m    228\u001b[0m \u001b[43m        \u001b[49m\u001b[43mstorage_options\u001b[49m\u001b[38;5;241;43m=\u001b[39;49m\u001b[43mkwds\u001b[49m\u001b[38;5;241;43m.\u001b[39;49m\u001b[43mget\u001b[49m\u001b[43m(\u001b[49m\u001b[38;5;124;43m\"\u001b[39;49m\u001b[38;5;124;43mstorage_options\u001b[39;49m\u001b[38;5;124;43m\"\u001b[39;49m\u001b[43m,\u001b[49m\u001b[43m \u001b[49m\u001b[38;5;28;43;01mNone\u001b[39;49;00m\u001b[43m)\u001b[49m\u001b[43m,\u001b[49m\n\u001b[1;32m    229\u001b[0m \u001b[43m        \u001b[49m\u001b[43merrors\u001b[49m\u001b[38;5;241;43m=\u001b[39;49m\u001b[43mkwds\u001b[49m\u001b[38;5;241;43m.\u001b[39;49m\u001b[43mget\u001b[49m\u001b[43m(\u001b[49m\u001b[38;5;124;43m\"\u001b[39;49m\u001b[38;5;124;43mencoding_errors\u001b[39;49m\u001b[38;5;124;43m\"\u001b[39;49m\u001b[43m,\u001b[49m\u001b[43m \u001b[49m\u001b[38;5;124;43m\"\u001b[39;49m\u001b[38;5;124;43mstrict\u001b[39;49m\u001b[38;5;124;43m\"\u001b[39;49m\u001b[43m)\u001b[49m\u001b[43m,\u001b[49m\n\u001b[1;32m    230\u001b[0m \u001b[43m    \u001b[49m\u001b[43m)\u001b[49m\n",
      "File \u001b[0;32m~/.pyenv/versions/3.8.12/envs/coastal_app/lib/python3.8/site-packages/pandas/io/common.py:702\u001b[0m, in \u001b[0;36mget_handle\u001b[0;34m(path_or_buf, mode, encoding, compression, memory_map, is_text, errors, storage_options)\u001b[0m\n\u001b[1;32m    697\u001b[0m \u001b[38;5;28;01melif\u001b[39;00m \u001b[38;5;28misinstance\u001b[39m(handle, \u001b[38;5;28mstr\u001b[39m):\n\u001b[1;32m    698\u001b[0m     \u001b[38;5;66;03m# Check whether the filename is to be opened in binary mode.\u001b[39;00m\n\u001b[1;32m    699\u001b[0m     \u001b[38;5;66;03m# Binary mode does not support 'encoding' and 'newline'.\u001b[39;00m\n\u001b[1;32m    700\u001b[0m     \u001b[38;5;28;01mif\u001b[39;00m ioargs\u001b[38;5;241m.\u001b[39mencoding \u001b[38;5;129;01mand\u001b[39;00m \u001b[38;5;124m\"\u001b[39m\u001b[38;5;124mb\u001b[39m\u001b[38;5;124m\"\u001b[39m \u001b[38;5;129;01mnot\u001b[39;00m \u001b[38;5;129;01min\u001b[39;00m ioargs\u001b[38;5;241m.\u001b[39mmode:\n\u001b[1;32m    701\u001b[0m         \u001b[38;5;66;03m# Encoding\u001b[39;00m\n\u001b[0;32m--> 702\u001b[0m         handle \u001b[38;5;241m=\u001b[39m \u001b[38;5;28;43mopen\u001b[39;49m\u001b[43m(\u001b[49m\n\u001b[1;32m    703\u001b[0m \u001b[43m            \u001b[49m\u001b[43mhandle\u001b[49m\u001b[43m,\u001b[49m\n\u001b[1;32m    704\u001b[0m \u001b[43m            \u001b[49m\u001b[43mioargs\u001b[49m\u001b[38;5;241;43m.\u001b[39;49m\u001b[43mmode\u001b[49m\u001b[43m,\u001b[49m\n\u001b[1;32m    705\u001b[0m \u001b[43m            \u001b[49m\u001b[43mencoding\u001b[49m\u001b[38;5;241;43m=\u001b[39;49m\u001b[43mioargs\u001b[49m\u001b[38;5;241;43m.\u001b[39;49m\u001b[43mencoding\u001b[49m\u001b[43m,\u001b[49m\n\u001b[1;32m    706\u001b[0m \u001b[43m            \u001b[49m\u001b[43merrors\u001b[49m\u001b[38;5;241;43m=\u001b[39;49m\u001b[43merrors\u001b[49m\u001b[43m,\u001b[49m\n\u001b[1;32m    707\u001b[0m \u001b[43m            \u001b[49m\u001b[43mnewline\u001b[49m\u001b[38;5;241;43m=\u001b[39;49m\u001b[38;5;124;43m\"\u001b[39;49m\u001b[38;5;124;43m\"\u001b[39;49m\u001b[43m,\u001b[49m\n\u001b[1;32m    708\u001b[0m \u001b[43m        \u001b[49m\u001b[43m)\u001b[49m\n\u001b[1;32m    709\u001b[0m     \u001b[38;5;28;01melse\u001b[39;00m:\n\u001b[1;32m    710\u001b[0m         \u001b[38;5;66;03m# Binary mode\u001b[39;00m\n\u001b[1;32m    711\u001b[0m         handle \u001b[38;5;241m=\u001b[39m \u001b[38;5;28mopen\u001b[39m(handle, ioargs\u001b[38;5;241m.\u001b[39mmode)\n",
      "\u001b[0;31mFileNotFoundError\u001b[0m: [Errno 2] No such file or directory: '../ml_model/data/database_with_artifical_values.csv'"
     ]
    }
   ],
   "source": [
    "fname = './ml_model/data/database_with_artifical_values.csv'\n",
    "\n",
    "X_train, X_test, y_train, y_test = get_data()"
   ]
  },
  {
   "cell_type": "code",
   "execution_count": 3,
   "metadata": {},
   "outputs": [
    {
     "data": {
      "text/html": [
       "<div>\n",
       "<style scoped>\n",
       "    .dataframe tbody tr th:only-of-type {\n",
       "        vertical-align: middle;\n",
       "    }\n",
       "\n",
       "    .dataframe tbody tr th {\n",
       "        vertical-align: top;\n",
       "    }\n",
       "\n",
       "    .dataframe thead th {\n",
       "        text-align: right;\n",
       "    }\n",
       "</style>\n",
       "<table border=\"1\" class=\"dataframe\">\n",
       "  <thead>\n",
       "    <tr style=\"text-align: right;\">\n",
       "      <th></th>\n",
       "      <th>Project Id</th>\n",
       "      <th>Armour Type</th>\n",
       "      <th>Armour Slope [v:h]</th>\n",
       "      <th>Armour Density [kg/m3]</th>\n",
       "      <th>Armour Mass [kg]</th>\n",
       "      <th>Water Density [kg/m3]</th>\n",
       "      <th>Offshore Significant Wave Height [m]</th>\n",
       "      <th>Offshore Bed Elevation [m Datum]</th>\n",
       "      <th>Average slope between offshore wave location and in front of Section [v:h]</th>\n",
       "      <th>Significant Wave Height at Toe [m]</th>\n",
       "      <th>Bed Elevation at Toe [m Datum]</th>\n",
       "      <th>Peak Wave Period [s]</th>\n",
       "      <th>Number of Waves [-]</th>\n",
       "      <th>Crest Level [m Datum]</th>\n",
       "      <th>Water Level [ m Datum]</th>\n",
       "      <th>Notional Permeability [-]</th>\n",
       "    </tr>\n",
       "    <tr>\n",
       "      <th>Id</th>\n",
       "      <th></th>\n",
       "      <th></th>\n",
       "      <th></th>\n",
       "      <th></th>\n",
       "      <th></th>\n",
       "      <th></th>\n",
       "      <th></th>\n",
       "      <th></th>\n",
       "      <th></th>\n",
       "      <th></th>\n",
       "      <th></th>\n",
       "      <th></th>\n",
       "      <th></th>\n",
       "      <th></th>\n",
       "      <th></th>\n",
       "      <th></th>\n",
       "    </tr>\n",
       "  </thead>\n",
       "  <tbody>\n",
       "    <tr>\n",
       "      <th>475</th>\n",
       "      <td>10</td>\n",
       "      <td>ROCK</td>\n",
       "      <td>1:06</td>\n",
       "      <td>2682.6</td>\n",
       "      <td>0.125159</td>\n",
       "      <td>1020</td>\n",
       "      <td>0.193000</td>\n",
       "      <td>-0.800000</td>\n",
       "      <td>1:1000</td>\n",
       "      <td>0.193000</td>\n",
       "      <td>-0.800000</td>\n",
       "      <td>1.830000</td>\n",
       "      <td>1000</td>\n",
       "      <td>10.000000</td>\n",
       "      <td>0.0</td>\n",
       "      <td>0.1</td>\n",
       "    </tr>\n",
       "    <tr>\n",
       "      <th>2872</th>\n",
       "      <td>10</td>\n",
       "      <td>ROCK</td>\n",
       "      <td>1:04</td>\n",
       "      <td>2667.3</td>\n",
       "      <td>646.292776</td>\n",
       "      <td>1020</td>\n",
       "      <td>2.348243</td>\n",
       "      <td>-13.853940</td>\n",
       "      <td>1:1000</td>\n",
       "      <td>2.348243</td>\n",
       "      <td>-13.853940</td>\n",
       "      <td>8.073157</td>\n",
       "      <td>1000</td>\n",
       "      <td>173.174248</td>\n",
       "      <td>0.0</td>\n",
       "      <td>0.1</td>\n",
       "    </tr>\n",
       "    <tr>\n",
       "      <th>6494</th>\n",
       "      <td>-1</td>\n",
       "      <td>XBLOCK</td>\n",
       "      <td>3:04</td>\n",
       "      <td>2500.0</td>\n",
       "      <td>68.281673</td>\n",
       "      <td>1030</td>\n",
       "      <td>1.500000</td>\n",
       "      <td>-50.000000</td>\n",
       "      <td>1:1000</td>\n",
       "      <td>0.750000</td>\n",
       "      <td>-25.000000</td>\n",
       "      <td>10.000000</td>\n",
       "      <td>1000</td>\n",
       "      <td>10.000000</td>\n",
       "      <td>0.0</td>\n",
       "      <td>0.1</td>\n",
       "    </tr>\n",
       "    <tr>\n",
       "      <th>6170</th>\n",
       "      <td>-1</td>\n",
       "      <td>XBLOCK</td>\n",
       "      <td>3:04</td>\n",
       "      <td>2400.0</td>\n",
       "      <td>41148.692100</td>\n",
       "      <td>1030</td>\n",
       "      <td>7.000000</td>\n",
       "      <td>-50.000000</td>\n",
       "      <td>1:1000</td>\n",
       "      <td>17.500000</td>\n",
       "      <td>-36.000000</td>\n",
       "      <td>10.000000</td>\n",
       "      <td>1000</td>\n",
       "      <td>10.000000</td>\n",
       "      <td>0.0</td>\n",
       "      <td>0.1</td>\n",
       "    </tr>\n",
       "    <tr>\n",
       "      <th>5603</th>\n",
       "      <td>-1</td>\n",
       "      <td>XBLOCK</td>\n",
       "      <td>3:04</td>\n",
       "      <td>2350.0</td>\n",
       "      <td>19147.671510</td>\n",
       "      <td>1030</td>\n",
       "      <td>9.000000</td>\n",
       "      <td>-50.000000</td>\n",
       "      <td>1:1000</td>\n",
       "      <td>4.500000</td>\n",
       "      <td>-23.000000</td>\n",
       "      <td>8.000000</td>\n",
       "      <td>1000</td>\n",
       "      <td>10.000000</td>\n",
       "      <td>0.0</td>\n",
       "      <td>0.1</td>\n",
       "    </tr>\n",
       "    <tr>\n",
       "      <th>...</th>\n",
       "      <td>...</td>\n",
       "      <td>...</td>\n",
       "      <td>...</td>\n",
       "      <td>...</td>\n",
       "      <td>...</td>\n",
       "      <td>...</td>\n",
       "      <td>...</td>\n",
       "      <td>...</td>\n",
       "      <td>...</td>\n",
       "      <td>...</td>\n",
       "      <td>...</td>\n",
       "      <td>...</td>\n",
       "      <td>...</td>\n",
       "      <td>...</td>\n",
       "      <td>...</td>\n",
       "      <td>...</td>\n",
       "    </tr>\n",
       "    <tr>\n",
       "      <th>701</th>\n",
       "      <td>10</td>\n",
       "      <td>ROCK</td>\n",
       "      <td>1:06</td>\n",
       "      <td>2682.6</td>\n",
       "      <td>0.125159</td>\n",
       "      <td>1020</td>\n",
       "      <td>0.201700</td>\n",
       "      <td>-0.800000</td>\n",
       "      <td>1:1000</td>\n",
       "      <td>0.201700</td>\n",
       "      <td>-0.800000</td>\n",
       "      <td>3.170000</td>\n",
       "      <td>3000</td>\n",
       "      <td>10.000000</td>\n",
       "      <td>0.0</td>\n",
       "      <td>0.1</td>\n",
       "    </tr>\n",
       "    <tr>\n",
       "      <th>1076</th>\n",
       "      <td>10</td>\n",
       "      <td>ROCK</td>\n",
       "      <td>1:03</td>\n",
       "      <td>2682.6</td>\n",
       "      <td>22.000000</td>\n",
       "      <td>1020</td>\n",
       "      <td>0.779196</td>\n",
       "      <td>-4.481359</td>\n",
       "      <td>1:1000</td>\n",
       "      <td>0.779196</td>\n",
       "      <td>-4.481359</td>\n",
       "      <td>3.313507</td>\n",
       "      <td>1000</td>\n",
       "      <td>56.016988</td>\n",
       "      <td>0.0</td>\n",
       "      <td>0.1</td>\n",
       "    </tr>\n",
       "    <tr>\n",
       "      <th>4078</th>\n",
       "      <td>10</td>\n",
       "      <td>ROCK</td>\n",
       "      <td>01:01.5</td>\n",
       "      <td>2667.3</td>\n",
       "      <td>4474.334601</td>\n",
       "      <td>1020</td>\n",
       "      <td>2.782343</td>\n",
       "      <td>-26.404200</td>\n",
       "      <td>1:1000</td>\n",
       "      <td>2.782343</td>\n",
       "      <td>-26.404200</td>\n",
       "      <td>11.260238</td>\n",
       "      <td>3000</td>\n",
       "      <td>330.052503</td>\n",
       "      <td>0.0</td>\n",
       "      <td>0.5</td>\n",
       "    </tr>\n",
       "    <tr>\n",
       "      <th>5671</th>\n",
       "      <td>-1</td>\n",
       "      <td>XBLOCK</td>\n",
       "      <td>3:04</td>\n",
       "      <td>2350.0</td>\n",
       "      <td>65664.168410</td>\n",
       "      <td>1030</td>\n",
       "      <td>10.000000</td>\n",
       "      <td>-50.000000</td>\n",
       "      <td>1:1000</td>\n",
       "      <td>12.500000</td>\n",
       "      <td>-23.000000</td>\n",
       "      <td>10.000000</td>\n",
       "      <td>1000</td>\n",
       "      <td>10.000000</td>\n",
       "      <td>0.0</td>\n",
       "      <td>0.1</td>\n",
       "    </tr>\n",
       "    <tr>\n",
       "      <th>620</th>\n",
       "      <td>10</td>\n",
       "      <td>ROCK</td>\n",
       "      <td>1:03</td>\n",
       "      <td>2682.6</td>\n",
       "      <td>0.125159</td>\n",
       "      <td>1020</td>\n",
       "      <td>0.095000</td>\n",
       "      <td>-0.800000</td>\n",
       "      <td>1:1000</td>\n",
       "      <td>0.095000</td>\n",
       "      <td>-0.800000</td>\n",
       "      <td>3.570000</td>\n",
       "      <td>3000</td>\n",
       "      <td>10.000000</td>\n",
       "      <td>0.0</td>\n",
       "      <td>0.1</td>\n",
       "    </tr>\n",
       "  </tbody>\n",
       "</table>\n",
       "<p>4944 rows × 16 columns</p>\n",
       "</div>"
      ],
      "text/plain": [
       "      Project Id Armour Type Armour Slope [v:h]  Armour Density [kg/m3]  \\\n",
       "Id                                                                        \n",
       "475           10        ROCK               1:06                  2682.6   \n",
       "2872          10        ROCK               1:04                  2667.3   \n",
       "6494          -1      XBLOCK               3:04                  2500.0   \n",
       "6170          -1      XBLOCK               3:04                  2400.0   \n",
       "5603          -1      XBLOCK               3:04                  2350.0   \n",
       "...          ...         ...                ...                     ...   \n",
       "701           10        ROCK               1:06                  2682.6   \n",
       "1076          10        ROCK               1:03                  2682.6   \n",
       "4078          10        ROCK            01:01.5                  2667.3   \n",
       "5671          -1      XBLOCK               3:04                  2350.0   \n",
       "620           10        ROCK               1:03                  2682.6   \n",
       "\n",
       "      Armour Mass [kg]  Water Density [kg/m3]  \\\n",
       "Id                                              \n",
       "475           0.125159                   1020   \n",
       "2872        646.292776                   1020   \n",
       "6494         68.281673                   1030   \n",
       "6170      41148.692100                   1030   \n",
       "5603      19147.671510                   1030   \n",
       "...                ...                    ...   \n",
       "701           0.125159                   1020   \n",
       "1076         22.000000                   1020   \n",
       "4078       4474.334601                   1020   \n",
       "5671      65664.168410                   1030   \n",
       "620           0.125159                   1020   \n",
       "\n",
       "      Offshore Significant Wave Height [m]  Offshore Bed Elevation [m Datum]  \\\n",
       "Id                                                                             \n",
       "475                               0.193000                         -0.800000   \n",
       "2872                              2.348243                        -13.853940   \n",
       "6494                              1.500000                        -50.000000   \n",
       "6170                              7.000000                        -50.000000   \n",
       "5603                              9.000000                        -50.000000   \n",
       "...                                    ...                               ...   \n",
       "701                               0.201700                         -0.800000   \n",
       "1076                              0.779196                         -4.481359   \n",
       "4078                              2.782343                        -26.404200   \n",
       "5671                             10.000000                        -50.000000   \n",
       "620                               0.095000                         -0.800000   \n",
       "\n",
       "     Average slope between offshore wave location and in front of Section [v:h]  \\\n",
       "Id                                                                                \n",
       "475                                              1:1000                           \n",
       "2872                                             1:1000                           \n",
       "6494                                             1:1000                           \n",
       "6170                                             1:1000                           \n",
       "5603                                             1:1000                           \n",
       "...                                                 ...                           \n",
       "701                                              1:1000                           \n",
       "1076                                             1:1000                           \n",
       "4078                                             1:1000                           \n",
       "5671                                             1:1000                           \n",
       "620                                              1:1000                           \n",
       "\n",
       "      Significant Wave Height at Toe [m]  Bed Elevation at Toe [m Datum]  \\\n",
       "Id                                                                         \n",
       "475                             0.193000                       -0.800000   \n",
       "2872                            2.348243                      -13.853940   \n",
       "6494                            0.750000                      -25.000000   \n",
       "6170                           17.500000                      -36.000000   \n",
       "5603                            4.500000                      -23.000000   \n",
       "...                                  ...                             ...   \n",
       "701                             0.201700                       -0.800000   \n",
       "1076                            0.779196                       -4.481359   \n",
       "4078                            2.782343                      -26.404200   \n",
       "5671                           12.500000                      -23.000000   \n",
       "620                             0.095000                       -0.800000   \n",
       "\n",
       "      Peak Wave Period [s]  Number of Waves [-]  Crest Level [m Datum]  \\\n",
       "Id                                                                       \n",
       "475               1.830000                 1000              10.000000   \n",
       "2872              8.073157                 1000             173.174248   \n",
       "6494             10.000000                 1000              10.000000   \n",
       "6170             10.000000                 1000              10.000000   \n",
       "5603              8.000000                 1000              10.000000   \n",
       "...                    ...                  ...                    ...   \n",
       "701               3.170000                 3000              10.000000   \n",
       "1076              3.313507                 1000              56.016988   \n",
       "4078             11.260238                 3000             330.052503   \n",
       "5671             10.000000                 1000              10.000000   \n",
       "620               3.570000                 3000              10.000000   \n",
       "\n",
       "      Water Level [ m Datum]  Notional Permeability [-]  \n",
       "Id                                                       \n",
       "475                      0.0                        0.1  \n",
       "2872                     0.0                        0.1  \n",
       "6494                     0.0                        0.1  \n",
       "6170                     0.0                        0.1  \n",
       "5603                     0.0                        0.1  \n",
       "...                      ...                        ...  \n",
       "701                      0.0                        0.1  \n",
       "1076                     0.0                        0.1  \n",
       "4078                     0.0                        0.5  \n",
       "5671                     0.0                        0.1  \n",
       "620                      0.0                        0.1  \n",
       "\n",
       "[4944 rows x 16 columns]"
      ]
     },
     "execution_count": 3,
     "metadata": {},
     "output_type": "execute_result"
    }
   ],
   "source": [
    "X_train"
   ]
  },
  {
   "cell_type": "code",
   "execution_count": 4,
   "metadata": {},
   "outputs": [
    {
     "data": {
      "text/plain": [
       "Index(['Project Id', 'Armour Type', 'Armour Slope [v:h]',\n",
       "       'Armour Density [kg/m3]', 'Armour Mass [kg]', 'Water Density [kg/m3]',\n",
       "       'Offshore Significant Wave Height [m]',\n",
       "       'Offshore Bed Elevation [m Datum]',\n",
       "       'Average slope between offshore wave location and in front of Section [v:h]',\n",
       "       'Significant Wave Height at Toe [m]', 'Bed Elevation at Toe [m Datum]',\n",
       "       'Peak Wave Period [s]', 'Number of Waves [-]', 'Crest Level [m Datum]',\n",
       "       'Water Level [ m Datum]', 'Notional Permeability [-]'],\n",
       "      dtype='object')"
      ]
     },
     "execution_count": 4,
     "metadata": {},
     "output_type": "execute_result"
    }
   ],
   "source": [
    "X_train.columns"
   ]
  },
  {
   "cell_type": "code",
   "execution_count": 5,
   "metadata": {},
   "outputs": [
    {
     "data": {
      "text/plain": [
       "Id\n",
       "475        1:06\n",
       "2872       1:04\n",
       "6494       3:04\n",
       "6170       3:04\n",
       "5603       3:04\n",
       "         ...   \n",
       "701        1:06\n",
       "1076       1:03\n",
       "4078    01:01.5\n",
       "5671       3:04\n",
       "620        1:03\n",
       "Name: Armour Slope [v:h], Length: 4944, dtype: object"
      ]
     },
     "execution_count": 5,
     "metadata": {},
     "output_type": "execute_result"
    }
   ],
   "source": [
    "X_train['Armour Slope [v:h]']"
   ]
  },
  {
   "cell_type": "code",
   "execution_count": 6,
   "metadata": {},
   "outputs": [
    {
     "data": {
      "text/plain": [
       "Id\n",
       "475     6.000000\n",
       "2872    4.000000\n",
       "6494    1.333333\n",
       "6170    1.333333\n",
       "5603    1.333333\n",
       "          ...   \n",
       "701     6.000000\n",
       "1076    3.000000\n",
       "4078    1.500000\n",
       "5671    1.333333\n",
       "620     3.000000\n",
       "Name: Armour Slope [v:h], Length: 4944, dtype: float64"
      ]
     },
     "execution_count": 6,
     "metadata": {},
     "output_type": "execute_result"
    }
   ],
   "source": [
    "X_train['Armour Slope [v:h]'].apply(lambda row: float(row.split(':')[1]) / float(row.split(':')[0]))"
   ]
  },
  {
   "cell_type": "code",
   "execution_count": 7,
   "metadata": {},
   "outputs": [],
   "source": [
    "#ohe armor type\n",
    "#convert slope to cotangent\n",
    "#relative density\n",
    "#depth at toe\n",
    "#structure height\n",
    "ohe_columns = 'Armour Type'"
   ]
  },
  {
   "cell_type": "code",
   "execution_count": 8,
   "metadata": {},
   "outputs": [
    {
     "data": {
      "text/html": [
       "<style>#sk-1b722e97-7ba9-44db-8681-4b9a51f63aad {color: black;background-color: white;}#sk-1b722e97-7ba9-44db-8681-4b9a51f63aad pre{padding: 0;}#sk-1b722e97-7ba9-44db-8681-4b9a51f63aad div.sk-toggleable {background-color: white;}#sk-1b722e97-7ba9-44db-8681-4b9a51f63aad label.sk-toggleable__label {cursor: pointer;display: block;width: 100%;margin-bottom: 0;padding: 0.3em;box-sizing: border-box;text-align: center;}#sk-1b722e97-7ba9-44db-8681-4b9a51f63aad label.sk-toggleable__label-arrow:before {content: \"▸\";float: left;margin-right: 0.25em;color: #696969;}#sk-1b722e97-7ba9-44db-8681-4b9a51f63aad label.sk-toggleable__label-arrow:hover:before {color: black;}#sk-1b722e97-7ba9-44db-8681-4b9a51f63aad div.sk-estimator:hover label.sk-toggleable__label-arrow:before {color: black;}#sk-1b722e97-7ba9-44db-8681-4b9a51f63aad div.sk-toggleable__content {max-height: 0;max-width: 0;overflow: hidden;text-align: left;background-color: #f0f8ff;}#sk-1b722e97-7ba9-44db-8681-4b9a51f63aad div.sk-toggleable__content pre {margin: 0.2em;color: black;border-radius: 0.25em;background-color: #f0f8ff;}#sk-1b722e97-7ba9-44db-8681-4b9a51f63aad input.sk-toggleable__control:checked~div.sk-toggleable__content {max-height: 200px;max-width: 100%;overflow: auto;}#sk-1b722e97-7ba9-44db-8681-4b9a51f63aad input.sk-toggleable__control:checked~label.sk-toggleable__label-arrow:before {content: \"▾\";}#sk-1b722e97-7ba9-44db-8681-4b9a51f63aad div.sk-estimator input.sk-toggleable__control:checked~label.sk-toggleable__label {background-color: #d4ebff;}#sk-1b722e97-7ba9-44db-8681-4b9a51f63aad div.sk-label input.sk-toggleable__control:checked~label.sk-toggleable__label {background-color: #d4ebff;}#sk-1b722e97-7ba9-44db-8681-4b9a51f63aad input.sk-hidden--visually {border: 0;clip: rect(1px 1px 1px 1px);clip: rect(1px, 1px, 1px, 1px);height: 1px;margin: -1px;overflow: hidden;padding: 0;position: absolute;width: 1px;}#sk-1b722e97-7ba9-44db-8681-4b9a51f63aad div.sk-estimator {font-family: monospace;background-color: #f0f8ff;border: 1px dotted black;border-radius: 0.25em;box-sizing: border-box;margin-bottom: 0.5em;}#sk-1b722e97-7ba9-44db-8681-4b9a51f63aad div.sk-estimator:hover {background-color: #d4ebff;}#sk-1b722e97-7ba9-44db-8681-4b9a51f63aad div.sk-parallel-item::after {content: \"\";width: 100%;border-bottom: 1px solid gray;flex-grow: 1;}#sk-1b722e97-7ba9-44db-8681-4b9a51f63aad div.sk-label:hover label.sk-toggleable__label {background-color: #d4ebff;}#sk-1b722e97-7ba9-44db-8681-4b9a51f63aad div.sk-serial::before {content: \"\";position: absolute;border-left: 1px solid gray;box-sizing: border-box;top: 2em;bottom: 0;left: 50%;}#sk-1b722e97-7ba9-44db-8681-4b9a51f63aad div.sk-serial {display: flex;flex-direction: column;align-items: center;background-color: white;padding-right: 0.2em;padding-left: 0.2em;}#sk-1b722e97-7ba9-44db-8681-4b9a51f63aad div.sk-item {z-index: 1;}#sk-1b722e97-7ba9-44db-8681-4b9a51f63aad div.sk-parallel {display: flex;align-items: stretch;justify-content: center;background-color: white;}#sk-1b722e97-7ba9-44db-8681-4b9a51f63aad div.sk-parallel::before {content: \"\";position: absolute;border-left: 1px solid gray;box-sizing: border-box;top: 2em;bottom: 0;left: 50%;}#sk-1b722e97-7ba9-44db-8681-4b9a51f63aad div.sk-parallel-item {display: flex;flex-direction: column;position: relative;background-color: white;}#sk-1b722e97-7ba9-44db-8681-4b9a51f63aad div.sk-parallel-item:first-child::after {align-self: flex-end;width: 50%;}#sk-1b722e97-7ba9-44db-8681-4b9a51f63aad div.sk-parallel-item:last-child::after {align-self: flex-start;width: 50%;}#sk-1b722e97-7ba9-44db-8681-4b9a51f63aad div.sk-parallel-item:only-child::after {width: 0;}#sk-1b722e97-7ba9-44db-8681-4b9a51f63aad div.sk-dashed-wrapped {border: 1px dashed gray;margin: 0 0.4em 0.5em 0.4em;box-sizing: border-box;padding-bottom: 0.4em;background-color: white;position: relative;}#sk-1b722e97-7ba9-44db-8681-4b9a51f63aad div.sk-label label {font-family: monospace;font-weight: bold;background-color: white;display: inline-block;line-height: 1.2em;}#sk-1b722e97-7ba9-44db-8681-4b9a51f63aad div.sk-label-container {position: relative;z-index: 2;text-align: center;}#sk-1b722e97-7ba9-44db-8681-4b9a51f63aad div.sk-container {/* jupyter's `normalize.less` sets `[hidden] { display: none; }` but bootstrap.min.css set `[hidden] { display: none !important; }` so we also need the `!important` here to be able to override the default hidden behavior on the sphinx rendered scikit-learn.org. See: https://github.com/scikit-learn/scikit-learn/issues/21755 */display: inline-block !important;position: relative;}#sk-1b722e97-7ba9-44db-8681-4b9a51f63aad div.sk-text-repr-fallback {display: none;}</style><div id=\"sk-1b722e97-7ba9-44db-8681-4b9a51f63aad\" class=\"sk-top-container\"><div class=\"sk-text-repr-fallback\"><pre>FeatureUnion(transformer_list=[(&#x27;preprocess&#x27;,\n",
       "                                ColumnTransformer(transformers=[(&#x27;num_tr&#x27;,\n",
       "                                                                 Pipeline(steps=[(&#x27;scaler&#x27;,\n",
       "                                                                                  RobustScaler())]),\n",
       "                                                                 [&#x27;Armour Mass &#x27;\n",
       "                                                                  &#x27;[kg]&#x27;,\n",
       "                                                                  &#x27;Significant &#x27;\n",
       "                                                                  &#x27;Wave Height &#x27;\n",
       "                                                                  &#x27;at Toe [m]&#x27;,\n",
       "                                                                  &#x27;Peak Wave &#x27;\n",
       "                                                                  &#x27;Period [s]&#x27;,\n",
       "                                                                  &#x27;Number of &#x27;\n",
       "                                                                  &#x27;Waves [-]&#x27;,\n",
       "                                                                  &#x27;Notional &#x27;\n",
       "                                                                  &#x27;Permeability &#x27;\n",
       "                                                                  &#x27;[-]&#x27;]),\n",
       "                                                                (&#x27;cat_tr&#x27;,\n",
       "                                                                 OneHotEncoder(handle_unknown=&#x27;ignore&#x27;),\n",
       "                                                                 [&#x27;Armour &#x27;\n",
       "                                                                  &#x27;Type&#x27;])])),\n",
       "                               (&#x27;custom_tr&#x27;,\n",
       "                                Pipel...\n",
       "                                                                                 FunctionTransformer(func=&lt;function convert_to_coteng at 0x7f522013eb80&gt;)),\n",
       "                                                                                (&#x27;depth_toe&#x27;,\n",
       "                                                                                 FunctionTransformer(func=&lt;function &lt;lambda&gt; at 0x7f522015c310&gt;)),\n",
       "                                                                                (&#x27;structure_height&#x27;,\n",
       "                                                                                 FunctionTransformer(func=&lt;function &lt;lambda&gt; at 0x7f521fa12280&gt;)),\n",
       "                                                                                (&#x27;relative_density&#x27;,\n",
       "                                                                                 FunctionTransformer(func=&lt;function &lt;lambda&gt; at 0x7f521f984790&gt;))])),\n",
       "                                                (&#x27;scaler_custom&#x27;,\n",
       "                                                 RobustScaler())]))])</pre><b>Please rerun this cell to show the HTML repr or trust the notebook.</b></div><div class=\"sk-container\" hidden><div class=\"sk-item sk-dashed-wrapped\"><div class=\"sk-label-container\"><div class=\"sk-label sk-toggleable\"><input class=\"sk-toggleable__control sk-hidden--visually\" id=\"dba1f068-cd54-43ff-8bd7-589740c91870\" type=\"checkbox\" ><label for=\"dba1f068-cd54-43ff-8bd7-589740c91870\" class=\"sk-toggleable__label sk-toggleable__label-arrow\">FeatureUnion</label><div class=\"sk-toggleable__content\"><pre>FeatureUnion(transformer_list=[(&#x27;preprocess&#x27;,\n",
       "                                ColumnTransformer(transformers=[(&#x27;num_tr&#x27;,\n",
       "                                                                 Pipeline(steps=[(&#x27;scaler&#x27;,\n",
       "                                                                                  RobustScaler())]),\n",
       "                                                                 [&#x27;Armour Mass &#x27;\n",
       "                                                                  &#x27;[kg]&#x27;,\n",
       "                                                                  &#x27;Significant &#x27;\n",
       "                                                                  &#x27;Wave Height &#x27;\n",
       "                                                                  &#x27;at Toe [m]&#x27;,\n",
       "                                                                  &#x27;Peak Wave &#x27;\n",
       "                                                                  &#x27;Period [s]&#x27;,\n",
       "                                                                  &#x27;Number of &#x27;\n",
       "                                                                  &#x27;Waves [-]&#x27;,\n",
       "                                                                  &#x27;Notional &#x27;\n",
       "                                                                  &#x27;Permeability &#x27;\n",
       "                                                                  &#x27;[-]&#x27;]),\n",
       "                                                                (&#x27;cat_tr&#x27;,\n",
       "                                                                 OneHotEncoder(handle_unknown=&#x27;ignore&#x27;),\n",
       "                                                                 [&#x27;Armour &#x27;\n",
       "                                                                  &#x27;Type&#x27;])])),\n",
       "                               (&#x27;custom_tr&#x27;,\n",
       "                                Pipel...\n",
       "                                                                                 FunctionTransformer(func=&lt;function convert_to_coteng at 0x7f522013eb80&gt;)),\n",
       "                                                                                (&#x27;depth_toe&#x27;,\n",
       "                                                                                 FunctionTransformer(func=&lt;function &lt;lambda&gt; at 0x7f522015c310&gt;)),\n",
       "                                                                                (&#x27;structure_height&#x27;,\n",
       "                                                                                 FunctionTransformer(func=&lt;function &lt;lambda&gt; at 0x7f521fa12280&gt;)),\n",
       "                                                                                (&#x27;relative_density&#x27;,\n",
       "                                                                                 FunctionTransformer(func=&lt;function &lt;lambda&gt; at 0x7f521f984790&gt;))])),\n",
       "                                                (&#x27;scaler_custom&#x27;,\n",
       "                                                 RobustScaler())]))])</pre></div></div></div><div class=\"sk-parallel\"><div class=\"sk-parallel-item\"><div class=\"sk-item\"><div class=\"sk-label-container\"><div class=\"sk-label sk-toggleable\"><label>preprocess</label></div></div><div class=\"sk-serial\"><div class=\"sk-item sk-dashed-wrapped\"><div class=\"sk-parallel\"><div class=\"sk-parallel-item\"><div class=\"sk-item\"><div class=\"sk-label-container\"><div class=\"sk-label sk-toggleable\"><input class=\"sk-toggleable__control sk-hidden--visually\" id=\"98f69706-d8d4-44d8-a6b7-a9442c905ac9\" type=\"checkbox\" ><label for=\"98f69706-d8d4-44d8-a6b7-a9442c905ac9\" class=\"sk-toggleable__label sk-toggleable__label-arrow\">num_tr</label><div class=\"sk-toggleable__content\"><pre>[&#x27;Armour Mass [kg]&#x27;, &#x27;Significant Wave Height at Toe [m]&#x27;, &#x27;Peak Wave Period [s]&#x27;, &#x27;Number of Waves [-]&#x27;, &#x27;Notional Permeability [-]&#x27;]</pre></div></div></div><div class=\"sk-serial\"><div class=\"sk-item\"><div class=\"sk-serial\"><div class=\"sk-item\"><div class=\"sk-estimator sk-toggleable\"><input class=\"sk-toggleable__control sk-hidden--visually\" id=\"6417728f-5668-493f-a95e-5cc84743ac6d\" type=\"checkbox\" ><label for=\"6417728f-5668-493f-a95e-5cc84743ac6d\" class=\"sk-toggleable__label sk-toggleable__label-arrow\">RobustScaler</label><div class=\"sk-toggleable__content\"><pre>RobustScaler()</pre></div></div></div></div></div></div></div></div><div class=\"sk-parallel-item\"><div class=\"sk-item\"><div class=\"sk-label-container\"><div class=\"sk-label sk-toggleable\"><input class=\"sk-toggleable__control sk-hidden--visually\" id=\"7a493aee-73f5-4953-bd0c-7337a7ae091b\" type=\"checkbox\" ><label for=\"7a493aee-73f5-4953-bd0c-7337a7ae091b\" class=\"sk-toggleable__label sk-toggleable__label-arrow\">cat_tr</label><div class=\"sk-toggleable__content\"><pre>[&#x27;Armour Type&#x27;]</pre></div></div></div><div class=\"sk-serial\"><div class=\"sk-item\"><div class=\"sk-estimator sk-toggleable\"><input class=\"sk-toggleable__control sk-hidden--visually\" id=\"61540398-08c4-489e-a709-5a0772fb130c\" type=\"checkbox\" ><label for=\"61540398-08c4-489e-a709-5a0772fb130c\" class=\"sk-toggleable__label sk-toggleable__label-arrow\">OneHotEncoder</label><div class=\"sk-toggleable__content\"><pre>OneHotEncoder(handle_unknown=&#x27;ignore&#x27;)</pre></div></div></div></div></div></div></div></div></div></div></div><div class=\"sk-parallel-item\"><div class=\"sk-item\"><div class=\"sk-label-container\"><div class=\"sk-label sk-toggleable\"><label>custom_tr</label></div></div><div class=\"sk-serial\"><div class=\"sk-item\"><div class=\"sk-serial\"><div class=\"sk-item sk-dashed-wrapped\"><div class=\"sk-label-container\"><div class=\"sk-label sk-toggleable\"><input class=\"sk-toggleable__control sk-hidden--visually\" id=\"2851c1c7-fb53-4138-a019-5161db1718d8\" type=\"checkbox\" ><label for=\"2851c1c7-fb53-4138-a019-5161db1718d8\" class=\"sk-toggleable__label sk-toggleable__label-arrow\">union_custom_transformer: FeatureUnion</label><div class=\"sk-toggleable__content\"><pre>FeatureUnion(transformer_list=[(&#x27;coteng&#x27;,\n",
       "                                FunctionTransformer(func=&lt;function convert_to_coteng at 0x7f522013eb80&gt;)),\n",
       "                               (&#x27;depth_toe&#x27;,\n",
       "                                FunctionTransformer(func=&lt;function &lt;lambda&gt; at 0x7f522015c310&gt;)),\n",
       "                               (&#x27;structure_height&#x27;,\n",
       "                                FunctionTransformer(func=&lt;function &lt;lambda&gt; at 0x7f521fa12280&gt;)),\n",
       "                               (&#x27;relative_density&#x27;,\n",
       "                                FunctionTransformer(func=&lt;function &lt;lambda&gt; at 0x7f521f984790&gt;))])</pre></div></div></div><div class=\"sk-parallel\"><div class=\"sk-parallel-item\"><div class=\"sk-item\"><div class=\"sk-label-container\"><div class=\"sk-label sk-toggleable\"><label>coteng</label></div></div><div class=\"sk-serial\"><div class=\"sk-item\"><div class=\"sk-estimator sk-toggleable\"><input class=\"sk-toggleable__control sk-hidden--visually\" id=\"0ed5ca18-5b2c-4bb1-94d9-a6f17dfbdf5a\" type=\"checkbox\" ><label for=\"0ed5ca18-5b2c-4bb1-94d9-a6f17dfbdf5a\" class=\"sk-toggleable__label sk-toggleable__label-arrow\">FunctionTransformer</label><div class=\"sk-toggleable__content\"><pre>FunctionTransformer(func=&lt;function convert_to_coteng at 0x7f522013eb80&gt;)</pre></div></div></div></div></div></div><div class=\"sk-parallel-item\"><div class=\"sk-item\"><div class=\"sk-label-container\"><div class=\"sk-label sk-toggleable\"><label>depth_toe</label></div></div><div class=\"sk-serial\"><div class=\"sk-item\"><div class=\"sk-estimator sk-toggleable\"><input class=\"sk-toggleable__control sk-hidden--visually\" id=\"606e3676-1427-4ee7-82fc-55ddfbd5a4ba\" type=\"checkbox\" ><label for=\"606e3676-1427-4ee7-82fc-55ddfbd5a4ba\" class=\"sk-toggleable__label sk-toggleable__label-arrow\">FunctionTransformer</label><div class=\"sk-toggleable__content\"><pre>FunctionTransformer(func=&lt;function &lt;lambda&gt; at 0x7f522015c310&gt;)</pre></div></div></div></div></div></div><div class=\"sk-parallel-item\"><div class=\"sk-item\"><div class=\"sk-label-container\"><div class=\"sk-label sk-toggleable\"><label>structure_height</label></div></div><div class=\"sk-serial\"><div class=\"sk-item\"><div class=\"sk-estimator sk-toggleable\"><input class=\"sk-toggleable__control sk-hidden--visually\" id=\"bd044c92-70e8-4eee-af30-09a033ee3a28\" type=\"checkbox\" ><label for=\"bd044c92-70e8-4eee-af30-09a033ee3a28\" class=\"sk-toggleable__label sk-toggleable__label-arrow\">FunctionTransformer</label><div class=\"sk-toggleable__content\"><pre>FunctionTransformer(func=&lt;function &lt;lambda&gt; at 0x7f521fa12280&gt;)</pre></div></div></div></div></div></div><div class=\"sk-parallel-item\"><div class=\"sk-item\"><div class=\"sk-label-container\"><div class=\"sk-label sk-toggleable\"><label>relative_density</label></div></div><div class=\"sk-serial\"><div class=\"sk-item\"><div class=\"sk-estimator sk-toggleable\"><input class=\"sk-toggleable__control sk-hidden--visually\" id=\"846bf963-fdec-4c8d-9152-0a38d1420888\" type=\"checkbox\" ><label for=\"846bf963-fdec-4c8d-9152-0a38d1420888\" class=\"sk-toggleable__label sk-toggleable__label-arrow\">FunctionTransformer</label><div class=\"sk-toggleable__content\"><pre>FunctionTransformer(func=&lt;function &lt;lambda&gt; at 0x7f521f984790&gt;)</pre></div></div></div></div></div></div></div></div><div class=\"sk-item\"><div class=\"sk-estimator sk-toggleable\"><input class=\"sk-toggleable__control sk-hidden--visually\" id=\"39f58049-84ac-4d77-aec8-cca7ad22783e\" type=\"checkbox\" ><label for=\"39f58049-84ac-4d77-aec8-cca7ad22783e\" class=\"sk-toggleable__label sk-toggleable__label-arrow\">RobustScaler</label><div class=\"sk-toggleable__content\"><pre>RobustScaler()</pre></div></div></div></div></div></div></div></div></div></div></div></div>"
      ],
      "text/plain": [
       "FeatureUnion(transformer_list=[('preprocess',\n",
       "                                ColumnTransformer(transformers=[('num_tr',\n",
       "                                                                 Pipeline(steps=[('scaler',\n",
       "                                                                                  RobustScaler())]),\n",
       "                                                                 ['Armour Mass '\n",
       "                                                                  '[kg]',\n",
       "                                                                  'Significant '\n",
       "                                                                  'Wave Height '\n",
       "                                                                  'at Toe [m]',\n",
       "                                                                  'Peak Wave '\n",
       "                                                                  'Period [s]',\n",
       "                                                                  'Number of '\n",
       "                                                                  'Waves [-]',\n",
       "                                                                  'Notional '\n",
       "                                                                  'Permeability '\n",
       "                                                                  '[-]']),\n",
       "                                                                ('cat_tr',\n",
       "                                                                 OneHotEncoder(handle_unknown='ignore'),\n",
       "                                                                 ['Armour '\n",
       "                                                                  'Type'])])),\n",
       "                               ('custom_tr',\n",
       "                                Pipel...\n",
       "                                                                                 FunctionTransformer(func=<function convert_to_coteng at 0x7f522013eb80>)),\n",
       "                                                                                ('depth_toe',\n",
       "                                                                                 FunctionTransformer(func=<function <lambda> at 0x7f522015c310>)),\n",
       "                                                                                ('structure_height',\n",
       "                                                                                 FunctionTransformer(func=<function <lambda> at 0x7f521fa12280>)),\n",
       "                                                                                ('relative_density',\n",
       "                                                                                 FunctionTransformer(func=<function <lambda> at 0x7f521f984790>))])),\n",
       "                                                ('scaler_custom',\n",
       "                                                 RobustScaler())]))])"
      ]
     },
     "execution_count": 8,
     "metadata": {},
     "output_type": "execute_result"
    }
   ],
   "source": [
    "from sklearn.preprocessing import OneHotEncoder\n",
    "from sklearn.compose import ColumnTransformer\n",
    "from sklearn.pipeline import Pipeline\n",
    "from sklearn.preprocessing import RobustScaler\n",
    "from sklearn.preprocessing import FunctionTransformer\n",
    "from sklearn.pipeline import FeatureUnion\n",
    "from sklearn.pipeline import make_pipeline\n",
    "from sklearn.pipeline import make_union\n",
    "from sklearn.compose import make_column_transformer\n",
    "from sklearn.ensemble import RandomForestRegressor, AdaBoostRegressor\n",
    "\n",
    "\n",
    "def convert_to_coteng(df):\n",
    "    return pd.DataFrame(df['Armour Slope [v:h]'].apply(lambda row: float(row.split(':')[1]) / float(row.split(':')[0])))\n",
    "\n",
    "num_transformer = Pipeline([\n",
    "    ('scaler', RobustScaler())])\n",
    "\n",
    "coteng_slope = FunctionTransformer(convert_to_coteng)\n",
    "depth_toe = FunctionTransformer(lambda df: pd.DataFrame(df['Water Level [ m Datum]'] - df['Bed Elevation at Toe [m Datum]']))\n",
    "structure_height = FunctionTransformer(lambda df: pd.DataFrame(df['Crest Level [m Datum]'] - df['Bed Elevation at Toe [m Datum]']))\n",
    "relative_density = FunctionTransformer(lambda df: pd.DataFrame((df['Armour Density [kg/m3]'] - df['Water Density [kg/m3]']) / df['Water Density [kg/m3]']))\n",
    "\n",
    "union_custom_transformer = FeatureUnion([\n",
    "    ('coteng', coteng_slope),\n",
    "    ('depth_toe', depth_toe),\n",
    "    ('structure_height', structure_height),\n",
    "    ('relative_density', relative_density)\n",
    "])\n",
    "    \n",
    "\n",
    "\n",
    "custom_transformer = Pipeline([('union_custom_transformer',union_custom_transformer), \n",
    "          ('scaler_custom',RobustScaler())])\n",
    "    \n",
    "\n",
    "\n",
    "# # Encode categorical variables\n",
    "cat_transformer = OneHotEncoder(handle_unknown='ignore')\n",
    "\n",
    "# # Paralellize \"num_transformer\" and \"One hot encoder\"\n",
    "preprocessor = ColumnTransformer([\n",
    "    ('num_tr', num_transformer, ['Armour Mass [kg]','Significant Wave Height at Toe [m]','Peak Wave Period [s]','Number of Waves [-]','Notional Permeability [-]']),\n",
    "    ('cat_tr', cat_transformer, ['Armour Type']),\n",
    "])\n",
    "\n",
    "#union\n",
    "\n",
    "preproc = FeatureUnion([\n",
    "    ('preprocess', preprocessor), # columns 0-8\n",
    "    ('custom_tr', custom_transformer) # new colums 9\n",
    "])\n",
    "preproc"
   ]
  },
  {
   "cell_type": "code",
   "execution_count": 9,
   "metadata": {},
   "outputs": [
    {
     "data": {
      "text/html": [
       "<style>#sk-01f6c2f3-cd13-4c22-80dc-44438e189978 {color: black;background-color: white;}#sk-01f6c2f3-cd13-4c22-80dc-44438e189978 pre{padding: 0;}#sk-01f6c2f3-cd13-4c22-80dc-44438e189978 div.sk-toggleable {background-color: white;}#sk-01f6c2f3-cd13-4c22-80dc-44438e189978 label.sk-toggleable__label {cursor: pointer;display: block;width: 100%;margin-bottom: 0;padding: 0.3em;box-sizing: border-box;text-align: center;}#sk-01f6c2f3-cd13-4c22-80dc-44438e189978 label.sk-toggleable__label-arrow:before {content: \"▸\";float: left;margin-right: 0.25em;color: #696969;}#sk-01f6c2f3-cd13-4c22-80dc-44438e189978 label.sk-toggleable__label-arrow:hover:before {color: black;}#sk-01f6c2f3-cd13-4c22-80dc-44438e189978 div.sk-estimator:hover label.sk-toggleable__label-arrow:before {color: black;}#sk-01f6c2f3-cd13-4c22-80dc-44438e189978 div.sk-toggleable__content {max-height: 0;max-width: 0;overflow: hidden;text-align: left;background-color: #f0f8ff;}#sk-01f6c2f3-cd13-4c22-80dc-44438e189978 div.sk-toggleable__content pre {margin: 0.2em;color: black;border-radius: 0.25em;background-color: #f0f8ff;}#sk-01f6c2f3-cd13-4c22-80dc-44438e189978 input.sk-toggleable__control:checked~div.sk-toggleable__content {max-height: 200px;max-width: 100%;overflow: auto;}#sk-01f6c2f3-cd13-4c22-80dc-44438e189978 input.sk-toggleable__control:checked~label.sk-toggleable__label-arrow:before {content: \"▾\";}#sk-01f6c2f3-cd13-4c22-80dc-44438e189978 div.sk-estimator input.sk-toggleable__control:checked~label.sk-toggleable__label {background-color: #d4ebff;}#sk-01f6c2f3-cd13-4c22-80dc-44438e189978 div.sk-label input.sk-toggleable__control:checked~label.sk-toggleable__label {background-color: #d4ebff;}#sk-01f6c2f3-cd13-4c22-80dc-44438e189978 input.sk-hidden--visually {border: 0;clip: rect(1px 1px 1px 1px);clip: rect(1px, 1px, 1px, 1px);height: 1px;margin: -1px;overflow: hidden;padding: 0;position: absolute;width: 1px;}#sk-01f6c2f3-cd13-4c22-80dc-44438e189978 div.sk-estimator {font-family: monospace;background-color: #f0f8ff;border: 1px dotted black;border-radius: 0.25em;box-sizing: border-box;margin-bottom: 0.5em;}#sk-01f6c2f3-cd13-4c22-80dc-44438e189978 div.sk-estimator:hover {background-color: #d4ebff;}#sk-01f6c2f3-cd13-4c22-80dc-44438e189978 div.sk-parallel-item::after {content: \"\";width: 100%;border-bottom: 1px solid gray;flex-grow: 1;}#sk-01f6c2f3-cd13-4c22-80dc-44438e189978 div.sk-label:hover label.sk-toggleable__label {background-color: #d4ebff;}#sk-01f6c2f3-cd13-4c22-80dc-44438e189978 div.sk-serial::before {content: \"\";position: absolute;border-left: 1px solid gray;box-sizing: border-box;top: 2em;bottom: 0;left: 50%;}#sk-01f6c2f3-cd13-4c22-80dc-44438e189978 div.sk-serial {display: flex;flex-direction: column;align-items: center;background-color: white;padding-right: 0.2em;padding-left: 0.2em;}#sk-01f6c2f3-cd13-4c22-80dc-44438e189978 div.sk-item {z-index: 1;}#sk-01f6c2f3-cd13-4c22-80dc-44438e189978 div.sk-parallel {display: flex;align-items: stretch;justify-content: center;background-color: white;}#sk-01f6c2f3-cd13-4c22-80dc-44438e189978 div.sk-parallel::before {content: \"\";position: absolute;border-left: 1px solid gray;box-sizing: border-box;top: 2em;bottom: 0;left: 50%;}#sk-01f6c2f3-cd13-4c22-80dc-44438e189978 div.sk-parallel-item {display: flex;flex-direction: column;position: relative;background-color: white;}#sk-01f6c2f3-cd13-4c22-80dc-44438e189978 div.sk-parallel-item:first-child::after {align-self: flex-end;width: 50%;}#sk-01f6c2f3-cd13-4c22-80dc-44438e189978 div.sk-parallel-item:last-child::after {align-self: flex-start;width: 50%;}#sk-01f6c2f3-cd13-4c22-80dc-44438e189978 div.sk-parallel-item:only-child::after {width: 0;}#sk-01f6c2f3-cd13-4c22-80dc-44438e189978 div.sk-dashed-wrapped {border: 1px dashed gray;margin: 0 0.4em 0.5em 0.4em;box-sizing: border-box;padding-bottom: 0.4em;background-color: white;position: relative;}#sk-01f6c2f3-cd13-4c22-80dc-44438e189978 div.sk-label label {font-family: monospace;font-weight: bold;background-color: white;display: inline-block;line-height: 1.2em;}#sk-01f6c2f3-cd13-4c22-80dc-44438e189978 div.sk-label-container {position: relative;z-index: 2;text-align: center;}#sk-01f6c2f3-cd13-4c22-80dc-44438e189978 div.sk-container {/* jupyter's `normalize.less` sets `[hidden] { display: none; }` but bootstrap.min.css set `[hidden] { display: none !important; }` so we also need the `!important` here to be able to override the default hidden behavior on the sphinx rendered scikit-learn.org. See: https://github.com/scikit-learn/scikit-learn/issues/21755 */display: inline-block !important;position: relative;}#sk-01f6c2f3-cd13-4c22-80dc-44438e189978 div.sk-text-repr-fallback {display: none;}</style><div id=\"sk-01f6c2f3-cd13-4c22-80dc-44438e189978\" class=\"sk-top-container\"><div class=\"sk-text-repr-fallback\"><pre>Pipeline(steps=[(&#x27;featureunion&#x27;,\n",
       "                 FeatureUnion(transformer_list=[(&#x27;preprocess&#x27;,\n",
       "                                                 ColumnTransformer(transformers=[(&#x27;num_tr&#x27;,\n",
       "                                                                                  Pipeline(steps=[(&#x27;scaler&#x27;,\n",
       "                                                                                                   RobustScaler())]),\n",
       "                                                                                  [&#x27;Armour &#x27;\n",
       "                                                                                   &#x27;Mass &#x27;\n",
       "                                                                                   &#x27;[kg]&#x27;,\n",
       "                                                                                   &#x27;Significant &#x27;\n",
       "                                                                                   &#x27;Wave &#x27;\n",
       "                                                                                   &#x27;Height &#x27;\n",
       "                                                                                   &#x27;at &#x27;\n",
       "                                                                                   &#x27;Toe &#x27;\n",
       "                                                                                   &#x27;[m]&#x27;,\n",
       "                                                                                   &#x27;Peak &#x27;\n",
       "                                                                                   &#x27;Wave &#x27;\n",
       "                                                                                   &#x27;Period &#x27;\n",
       "                                                                                   &#x27;[s]&#x27;,\n",
       "                                                                                   &#x27;Number &#x27;\n",
       "                                                                                   &#x27;of &#x27;\n",
       "                                                                                   &#x27;Waves &#x27;\n",
       "                                                                                   &#x27;[-]&#x27;,\n",
       "                                                                                   &#x27;Notional &#x27;\n",
       "                                                                                   &#x27;Permeability &#x27;\n",
       "                                                                                   &#x27;[-]&#x27;]),\n",
       "                                                                                 (&#x27;cat_tr&#x27;,\n",
       "                                                                                  OneHotEncoder(handle_unknown=&#x27;...\n",
       "                                                                                                  FunctionTransformer(func=&lt;function convert_to_coteng at 0x7f522013eb80&gt;)),\n",
       "                                                                                                 (&#x27;depth_toe&#x27;,\n",
       "                                                                                                  FunctionTransformer(func=&lt;function &lt;lambda&gt; at 0x7f522015c310&gt;)),\n",
       "                                                                                                 (&#x27;structure_height&#x27;,\n",
       "                                                                                                  FunctionTransformer(func=&lt;function &lt;lambda&gt; at 0x7f521fa12280&gt;)),\n",
       "                                                                                                 (&#x27;relative_density&#x27;,\n",
       "                                                                                                  FunctionTransformer(func=&lt;function &lt;lambda&gt; at 0x7f521f984790&gt;))])),\n",
       "                                                                 (&#x27;scaler_custom&#x27;,\n",
       "                                                                  RobustScaler())]))])),\n",
       "                (&#x27;randomforestregressor&#x27;, RandomForestRegressor())])</pre><b>Please rerun this cell to show the HTML repr or trust the notebook.</b></div><div class=\"sk-container\" hidden><div class=\"sk-item sk-dashed-wrapped\"><div class=\"sk-label-container\"><div class=\"sk-label sk-toggleable\"><input class=\"sk-toggleable__control sk-hidden--visually\" id=\"094b8915-c6bd-4db5-8317-17fb912f8177\" type=\"checkbox\" ><label for=\"094b8915-c6bd-4db5-8317-17fb912f8177\" class=\"sk-toggleable__label sk-toggleable__label-arrow\">Pipeline</label><div class=\"sk-toggleable__content\"><pre>Pipeline(steps=[(&#x27;featureunion&#x27;,\n",
       "                 FeatureUnion(transformer_list=[(&#x27;preprocess&#x27;,\n",
       "                                                 ColumnTransformer(transformers=[(&#x27;num_tr&#x27;,\n",
       "                                                                                  Pipeline(steps=[(&#x27;scaler&#x27;,\n",
       "                                                                                                   RobustScaler())]),\n",
       "                                                                                  [&#x27;Armour &#x27;\n",
       "                                                                                   &#x27;Mass &#x27;\n",
       "                                                                                   &#x27;[kg]&#x27;,\n",
       "                                                                                   &#x27;Significant &#x27;\n",
       "                                                                                   &#x27;Wave &#x27;\n",
       "                                                                                   &#x27;Height &#x27;\n",
       "                                                                                   &#x27;at &#x27;\n",
       "                                                                                   &#x27;Toe &#x27;\n",
       "                                                                                   &#x27;[m]&#x27;,\n",
       "                                                                                   &#x27;Peak &#x27;\n",
       "                                                                                   &#x27;Wave &#x27;\n",
       "                                                                                   &#x27;Period &#x27;\n",
       "                                                                                   &#x27;[s]&#x27;,\n",
       "                                                                                   &#x27;Number &#x27;\n",
       "                                                                                   &#x27;of &#x27;\n",
       "                                                                                   &#x27;Waves &#x27;\n",
       "                                                                                   &#x27;[-]&#x27;,\n",
       "                                                                                   &#x27;Notional &#x27;\n",
       "                                                                                   &#x27;Permeability &#x27;\n",
       "                                                                                   &#x27;[-]&#x27;]),\n",
       "                                                                                 (&#x27;cat_tr&#x27;,\n",
       "                                                                                  OneHotEncoder(handle_unknown=&#x27;...\n",
       "                                                                                                  FunctionTransformer(func=&lt;function convert_to_coteng at 0x7f522013eb80&gt;)),\n",
       "                                                                                                 (&#x27;depth_toe&#x27;,\n",
       "                                                                                                  FunctionTransformer(func=&lt;function &lt;lambda&gt; at 0x7f522015c310&gt;)),\n",
       "                                                                                                 (&#x27;structure_height&#x27;,\n",
       "                                                                                                  FunctionTransformer(func=&lt;function &lt;lambda&gt; at 0x7f521fa12280&gt;)),\n",
       "                                                                                                 (&#x27;relative_density&#x27;,\n",
       "                                                                                                  FunctionTransformer(func=&lt;function &lt;lambda&gt; at 0x7f521f984790&gt;))])),\n",
       "                                                                 (&#x27;scaler_custom&#x27;,\n",
       "                                                                  RobustScaler())]))])),\n",
       "                (&#x27;randomforestregressor&#x27;, RandomForestRegressor())])</pre></div></div></div><div class=\"sk-serial\"><div class=\"sk-item sk-dashed-wrapped\"><div class=\"sk-label-container\"><div class=\"sk-label sk-toggleable\"><input class=\"sk-toggleable__control sk-hidden--visually\" id=\"91851bca-c5b2-4976-a769-4b9226e1234a\" type=\"checkbox\" ><label for=\"91851bca-c5b2-4976-a769-4b9226e1234a\" class=\"sk-toggleable__label sk-toggleable__label-arrow\">featureunion: FeatureUnion</label><div class=\"sk-toggleable__content\"><pre>FeatureUnion(transformer_list=[(&#x27;preprocess&#x27;,\n",
       "                                ColumnTransformer(transformers=[(&#x27;num_tr&#x27;,\n",
       "                                                                 Pipeline(steps=[(&#x27;scaler&#x27;,\n",
       "                                                                                  RobustScaler())]),\n",
       "                                                                 [&#x27;Armour Mass &#x27;\n",
       "                                                                  &#x27;[kg]&#x27;,\n",
       "                                                                  &#x27;Significant &#x27;\n",
       "                                                                  &#x27;Wave Height &#x27;\n",
       "                                                                  &#x27;at Toe [m]&#x27;,\n",
       "                                                                  &#x27;Peak Wave &#x27;\n",
       "                                                                  &#x27;Period [s]&#x27;,\n",
       "                                                                  &#x27;Number of &#x27;\n",
       "                                                                  &#x27;Waves [-]&#x27;,\n",
       "                                                                  &#x27;Notional &#x27;\n",
       "                                                                  &#x27;Permeability &#x27;\n",
       "                                                                  &#x27;[-]&#x27;]),\n",
       "                                                                (&#x27;cat_tr&#x27;,\n",
       "                                                                 OneHotEncoder(handle_unknown=&#x27;ignore&#x27;),\n",
       "                                                                 [&#x27;Armour &#x27;\n",
       "                                                                  &#x27;Type&#x27;])])),\n",
       "                               (&#x27;custom_tr&#x27;,\n",
       "                                Pipel...\n",
       "                                                                                 FunctionTransformer(func=&lt;function convert_to_coteng at 0x7f522013eb80&gt;)),\n",
       "                                                                                (&#x27;depth_toe&#x27;,\n",
       "                                                                                 FunctionTransformer(func=&lt;function &lt;lambda&gt; at 0x7f522015c310&gt;)),\n",
       "                                                                                (&#x27;structure_height&#x27;,\n",
       "                                                                                 FunctionTransformer(func=&lt;function &lt;lambda&gt; at 0x7f521fa12280&gt;)),\n",
       "                                                                                (&#x27;relative_density&#x27;,\n",
       "                                                                                 FunctionTransformer(func=&lt;function &lt;lambda&gt; at 0x7f521f984790&gt;))])),\n",
       "                                                (&#x27;scaler_custom&#x27;,\n",
       "                                                 RobustScaler())]))])</pre></div></div></div><div class=\"sk-parallel\"><div class=\"sk-parallel-item\"><div class=\"sk-item\"><div class=\"sk-label-container\"><div class=\"sk-label sk-toggleable\"><label>preprocess</label></div></div><div class=\"sk-serial\"><div class=\"sk-item sk-dashed-wrapped\"><div class=\"sk-parallel\"><div class=\"sk-parallel-item\"><div class=\"sk-item\"><div class=\"sk-label-container\"><div class=\"sk-label sk-toggleable\"><input class=\"sk-toggleable__control sk-hidden--visually\" id=\"80c98bf3-c74e-44b2-a130-3fd0b10e9353\" type=\"checkbox\" ><label for=\"80c98bf3-c74e-44b2-a130-3fd0b10e9353\" class=\"sk-toggleable__label sk-toggleable__label-arrow\">num_tr</label><div class=\"sk-toggleable__content\"><pre>[&#x27;Armour Mass [kg]&#x27;, &#x27;Significant Wave Height at Toe [m]&#x27;, &#x27;Peak Wave Period [s]&#x27;, &#x27;Number of Waves [-]&#x27;, &#x27;Notional Permeability [-]&#x27;]</pre></div></div></div><div class=\"sk-serial\"><div class=\"sk-item\"><div class=\"sk-serial\"><div class=\"sk-item\"><div class=\"sk-estimator sk-toggleable\"><input class=\"sk-toggleable__control sk-hidden--visually\" id=\"c7834a1e-0c19-47b8-9bdc-6d19dfc94776\" type=\"checkbox\" ><label for=\"c7834a1e-0c19-47b8-9bdc-6d19dfc94776\" class=\"sk-toggleable__label sk-toggleable__label-arrow\">RobustScaler</label><div class=\"sk-toggleable__content\"><pre>RobustScaler()</pre></div></div></div></div></div></div></div></div><div class=\"sk-parallel-item\"><div class=\"sk-item\"><div class=\"sk-label-container\"><div class=\"sk-label sk-toggleable\"><input class=\"sk-toggleable__control sk-hidden--visually\" id=\"4cb86bd7-f7dd-4ff4-ab54-ba197d2e6bcf\" type=\"checkbox\" ><label for=\"4cb86bd7-f7dd-4ff4-ab54-ba197d2e6bcf\" class=\"sk-toggleable__label sk-toggleable__label-arrow\">cat_tr</label><div class=\"sk-toggleable__content\"><pre>[&#x27;Armour Type&#x27;]</pre></div></div></div><div class=\"sk-serial\"><div class=\"sk-item\"><div class=\"sk-estimator sk-toggleable\"><input class=\"sk-toggleable__control sk-hidden--visually\" id=\"dde99e89-0028-4214-9566-3f2299a90115\" type=\"checkbox\" ><label for=\"dde99e89-0028-4214-9566-3f2299a90115\" class=\"sk-toggleable__label sk-toggleable__label-arrow\">OneHotEncoder</label><div class=\"sk-toggleable__content\"><pre>OneHotEncoder(handle_unknown=&#x27;ignore&#x27;)</pre></div></div></div></div></div></div></div></div></div></div></div><div class=\"sk-parallel-item\"><div class=\"sk-item\"><div class=\"sk-label-container\"><div class=\"sk-label sk-toggleable\"><label>custom_tr</label></div></div><div class=\"sk-serial\"><div class=\"sk-item\"><div class=\"sk-serial\"><div class=\"sk-item sk-dashed-wrapped\"><div class=\"sk-label-container\"><div class=\"sk-label sk-toggleable\"><input class=\"sk-toggleable__control sk-hidden--visually\" id=\"beced1b9-0e78-4123-99be-3c02a70701d0\" type=\"checkbox\" ><label for=\"beced1b9-0e78-4123-99be-3c02a70701d0\" class=\"sk-toggleable__label sk-toggleable__label-arrow\">union_custom_transformer: FeatureUnion</label><div class=\"sk-toggleable__content\"><pre>FeatureUnion(transformer_list=[(&#x27;coteng&#x27;,\n",
       "                                FunctionTransformer(func=&lt;function convert_to_coteng at 0x7f522013eb80&gt;)),\n",
       "                               (&#x27;depth_toe&#x27;,\n",
       "                                FunctionTransformer(func=&lt;function &lt;lambda&gt; at 0x7f522015c310&gt;)),\n",
       "                               (&#x27;structure_height&#x27;,\n",
       "                                FunctionTransformer(func=&lt;function &lt;lambda&gt; at 0x7f521fa12280&gt;)),\n",
       "                               (&#x27;relative_density&#x27;,\n",
       "                                FunctionTransformer(func=&lt;function &lt;lambda&gt; at 0x7f521f984790&gt;))])</pre></div></div></div><div class=\"sk-parallel\"><div class=\"sk-parallel-item\"><div class=\"sk-item\"><div class=\"sk-label-container\"><div class=\"sk-label sk-toggleable\"><label>coteng</label></div></div><div class=\"sk-serial\"><div class=\"sk-item\"><div class=\"sk-estimator sk-toggleable\"><input class=\"sk-toggleable__control sk-hidden--visually\" id=\"6d54e8dc-5300-445b-9929-9fc455a16bcf\" type=\"checkbox\" ><label for=\"6d54e8dc-5300-445b-9929-9fc455a16bcf\" class=\"sk-toggleable__label sk-toggleable__label-arrow\">FunctionTransformer</label><div class=\"sk-toggleable__content\"><pre>FunctionTransformer(func=&lt;function convert_to_coteng at 0x7f522013eb80&gt;)</pre></div></div></div></div></div></div><div class=\"sk-parallel-item\"><div class=\"sk-item\"><div class=\"sk-label-container\"><div class=\"sk-label sk-toggleable\"><label>depth_toe</label></div></div><div class=\"sk-serial\"><div class=\"sk-item\"><div class=\"sk-estimator sk-toggleable\"><input class=\"sk-toggleable__control sk-hidden--visually\" id=\"9615783e-9302-4ed7-a894-e9efb6c1f613\" type=\"checkbox\" ><label for=\"9615783e-9302-4ed7-a894-e9efb6c1f613\" class=\"sk-toggleable__label sk-toggleable__label-arrow\">FunctionTransformer</label><div class=\"sk-toggleable__content\"><pre>FunctionTransformer(func=&lt;function &lt;lambda&gt; at 0x7f522015c310&gt;)</pre></div></div></div></div></div></div><div class=\"sk-parallel-item\"><div class=\"sk-item\"><div class=\"sk-label-container\"><div class=\"sk-label sk-toggleable\"><label>structure_height</label></div></div><div class=\"sk-serial\"><div class=\"sk-item\"><div class=\"sk-estimator sk-toggleable\"><input class=\"sk-toggleable__control sk-hidden--visually\" id=\"efec6dc2-0e73-4a15-9dbb-36983bf1e14d\" type=\"checkbox\" ><label for=\"efec6dc2-0e73-4a15-9dbb-36983bf1e14d\" class=\"sk-toggleable__label sk-toggleable__label-arrow\">FunctionTransformer</label><div class=\"sk-toggleable__content\"><pre>FunctionTransformer(func=&lt;function &lt;lambda&gt; at 0x7f521fa12280&gt;)</pre></div></div></div></div></div></div><div class=\"sk-parallel-item\"><div class=\"sk-item\"><div class=\"sk-label-container\"><div class=\"sk-label sk-toggleable\"><label>relative_density</label></div></div><div class=\"sk-serial\"><div class=\"sk-item\"><div class=\"sk-estimator sk-toggleable\"><input class=\"sk-toggleable__control sk-hidden--visually\" id=\"4c91bb4d-f2be-4806-af57-f745210b1944\" type=\"checkbox\" ><label for=\"4c91bb4d-f2be-4806-af57-f745210b1944\" class=\"sk-toggleable__label sk-toggleable__label-arrow\">FunctionTransformer</label><div class=\"sk-toggleable__content\"><pre>FunctionTransformer(func=&lt;function &lt;lambda&gt; at 0x7f521f984790&gt;)</pre></div></div></div></div></div></div></div></div><div class=\"sk-item\"><div class=\"sk-estimator sk-toggleable\"><input class=\"sk-toggleable__control sk-hidden--visually\" id=\"0b128724-7132-4c93-8bf6-4dfdcfe4ee56\" type=\"checkbox\" ><label for=\"0b128724-7132-4c93-8bf6-4dfdcfe4ee56\" class=\"sk-toggleable__label sk-toggleable__label-arrow\">RobustScaler</label><div class=\"sk-toggleable__content\"><pre>RobustScaler()</pre></div></div></div></div></div></div></div></div></div></div><div class=\"sk-item\"><div class=\"sk-estimator sk-toggleable\"><input class=\"sk-toggleable__control sk-hidden--visually\" id=\"8130063b-474b-47d8-b37b-50afafb16688\" type=\"checkbox\" ><label for=\"8130063b-474b-47d8-b37b-50afafb16688\" class=\"sk-toggleable__label sk-toggleable__label-arrow\">RandomForestRegressor</label><div class=\"sk-toggleable__content\"><pre>RandomForestRegressor()</pre></div></div></div></div></div></div></div>"
      ],
      "text/plain": [
       "Pipeline(steps=[('featureunion',\n",
       "                 FeatureUnion(transformer_list=[('preprocess',\n",
       "                                                 ColumnTransformer(transformers=[('num_tr',\n",
       "                                                                                  Pipeline(steps=[('scaler',\n",
       "                                                                                                   RobustScaler())]),\n",
       "                                                                                  ['Armour '\n",
       "                                                                                   'Mass '\n",
       "                                                                                   '[kg]',\n",
       "                                                                                   'Significant '\n",
       "                                                                                   'Wave '\n",
       "                                                                                   'Height '\n",
       "                                                                                   'at '\n",
       "                                                                                   'Toe '\n",
       "                                                                                   '[m]',\n",
       "                                                                                   'Peak '\n",
       "                                                                                   'Wave '\n",
       "                                                                                   'Period '\n",
       "                                                                                   '[s]',\n",
       "                                                                                   'Number '\n",
       "                                                                                   'of '\n",
       "                                                                                   'Waves '\n",
       "                                                                                   '[-]',\n",
       "                                                                                   'Notional '\n",
       "                                                                                   'Permeability '\n",
       "                                                                                   '[-]']),\n",
       "                                                                                 ('cat_tr',\n",
       "                                                                                  OneHotEncoder(handle_unknown='...\n",
       "                                                                                                  FunctionTransformer(func=<function convert_to_coteng at 0x7f522013eb80>)),\n",
       "                                                                                                 ('depth_toe',\n",
       "                                                                                                  FunctionTransformer(func=<function <lambda> at 0x7f522015c310>)),\n",
       "                                                                                                 ('structure_height',\n",
       "                                                                                                  FunctionTransformer(func=<function <lambda> at 0x7f521fa12280>)),\n",
       "                                                                                                 ('relative_density',\n",
       "                                                                                                  FunctionTransformer(func=<function <lambda> at 0x7f521f984790>))])),\n",
       "                                                                 ('scaler_custom',\n",
       "                                                                  RobustScaler())]))])),\n",
       "                ('randomforestregressor', RandomForestRegressor())])"
      ]
     },
     "execution_count": 9,
     "metadata": {},
     "output_type": "execute_result"
    }
   ],
   "source": [
    "# Add Estimator\n",
    "pipe = make_pipeline(preproc, RandomForestRegressor())\n",
    "pipe.fit(X_train,y_train)"
   ]
  },
  {
   "cell_type": "code",
   "execution_count": 14,
   "metadata": {},
   "outputs": [
    {
     "name": "stdout",
     "output_type": "stream",
     "text": [
      "Fitting 5 folds for each of 16 candidates, totalling 80 fits\n",
      "[CV] END randomforestregressor__max_depth=7, randomforestregressor__n_estimators=150; total time=   0.7s\n",
      "[CV] END randomforestregressor__max_depth=7, randomforestregressor__n_estimators=150; total time=   0.7s\n",
      "[CV] END randomforestregressor__max_depth=7, randomforestregressor__n_estimators=150; total time=   0.7s\n",
      "[CV] END randomforestregressor__max_depth=7, randomforestregressor__n_estimators=150; total time=   0.7s\n",
      "[CV] END randomforestregressor__max_depth=7, randomforestregressor__n_estimators=150; total time=   0.7s\n",
      "[CV] END randomforestregressor__max_depth=7, randomforestregressor__n_estimators=200; total time=   0.9s\n",
      "[CV] END randomforestregressor__max_depth=7, randomforestregressor__n_estimators=200; total time=   0.9s\n",
      "[CV] END randomforestregressor__max_depth=7, randomforestregressor__n_estimators=200; total time=   0.9s\n",
      "[CV] END randomforestregressor__max_depth=7, randomforestregressor__n_estimators=200; total time=   0.9s\n",
      "[CV] END randomforestregressor__max_depth=7, randomforestregressor__n_estimators=200; total time=   1.0s\n",
      "[CV] END randomforestregressor__max_depth=7, randomforestregressor__n_estimators=250; total time=   1.3s\n",
      "[CV] END randomforestregressor__max_depth=7, randomforestregressor__n_estimators=250; total time=   1.2s\n",
      "[CV] END randomforestregressor__max_depth=7, randomforestregressor__n_estimators=250; total time=   1.2s\n",
      "[CV] END randomforestregressor__max_depth=7, randomforestregressor__n_estimators=250; total time=   1.2s\n",
      "[CV] END randomforestregressor__max_depth=7, randomforestregressor__n_estimators=250; total time=   1.2s\n",
      "[CV] END randomforestregressor__max_depth=7, randomforestregressor__n_estimators=300; total time=   1.4s\n",
      "[CV] END randomforestregressor__max_depth=7, randomforestregressor__n_estimators=300; total time=   1.4s\n",
      "[CV] END randomforestregressor__max_depth=7, randomforestregressor__n_estimators=300; total time=   1.4s\n",
      "[CV] END randomforestregressor__max_depth=7, randomforestregressor__n_estimators=300; total time=   1.4s\n",
      "[CV] END randomforestregressor__max_depth=7, randomforestregressor__n_estimators=300; total time=   1.4s\n",
      "[CV] END randomforestregressor__max_depth=8, randomforestregressor__n_estimators=150; total time=   0.8s\n",
      "[CV] END randomforestregressor__max_depth=8, randomforestregressor__n_estimators=150; total time=   0.8s\n",
      "[CV] END randomforestregressor__max_depth=8, randomforestregressor__n_estimators=150; total time=   0.8s\n",
      "[CV] END randomforestregressor__max_depth=8, randomforestregressor__n_estimators=150; total time=   0.8s\n",
      "[CV] END randomforestregressor__max_depth=8, randomforestregressor__n_estimators=150; total time=   0.8s\n",
      "[CV] END randomforestregressor__max_depth=8, randomforestregressor__n_estimators=200; total time=   1.0s\n",
      "[CV] END randomforestregressor__max_depth=8, randomforestregressor__n_estimators=200; total time=   1.0s\n",
      "[CV] END randomforestregressor__max_depth=8, randomforestregressor__n_estimators=200; total time=   1.0s\n",
      "[CV] END randomforestregressor__max_depth=8, randomforestregressor__n_estimators=200; total time=   1.0s\n",
      "[CV] END randomforestregressor__max_depth=8, randomforestregressor__n_estimators=200; total time=   1.0s\n",
      "[CV] END randomforestregressor__max_depth=8, randomforestregressor__n_estimators=250; total time=   1.3s\n",
      "[CV] END randomforestregressor__max_depth=8, randomforestregressor__n_estimators=250; total time=   1.3s\n",
      "[CV] END randomforestregressor__max_depth=8, randomforestregressor__n_estimators=250; total time=   1.3s\n",
      "[CV] END randomforestregressor__max_depth=8, randomforestregressor__n_estimators=250; total time=   1.3s\n",
      "[CV] END randomforestregressor__max_depth=8, randomforestregressor__n_estimators=250; total time=   1.3s\n",
      "[CV] END randomforestregressor__max_depth=8, randomforestregressor__n_estimators=300; total time=   1.5s\n",
      "[CV] END randomforestregressor__max_depth=8, randomforestregressor__n_estimators=300; total time=   1.5s\n",
      "[CV] END randomforestregressor__max_depth=8, randomforestregressor__n_estimators=300; total time=   1.5s\n",
      "[CV] END randomforestregressor__max_depth=8, randomforestregressor__n_estimators=300; total time=   1.5s\n",
      "[CV] END randomforestregressor__max_depth=8, randomforestregressor__n_estimators=300; total time=   1.5s\n",
      "[CV] END randomforestregressor__max_depth=9, randomforestregressor__n_estimators=150; total time=   0.8s\n",
      "[CV] END randomforestregressor__max_depth=9, randomforestregressor__n_estimators=150; total time=   0.8s\n",
      "[CV] END randomforestregressor__max_depth=9, randomforestregressor__n_estimators=150; total time=   0.8s\n",
      "[CV] END randomforestregressor__max_depth=9, randomforestregressor__n_estimators=150; total time=   0.8s\n",
      "[CV] END randomforestregressor__max_depth=9, randomforestregressor__n_estimators=150; total time=   0.8s\n",
      "[CV] END randomforestregressor__max_depth=9, randomforestregressor__n_estimators=200; total time=   1.1s\n",
      "[CV] END randomforestregressor__max_depth=9, randomforestregressor__n_estimators=200; total time=   1.1s\n",
      "[CV] END randomforestregressor__max_depth=9, randomforestregressor__n_estimators=200; total time=   1.1s\n",
      "[CV] END randomforestregressor__max_depth=9, randomforestregressor__n_estimators=200; total time=   1.1s\n",
      "[CV] END randomforestregressor__max_depth=9, randomforestregressor__n_estimators=200; total time=   1.1s\n",
      "[CV] END randomforestregressor__max_depth=9, randomforestregressor__n_estimators=250; total time=   1.4s\n",
      "[CV] END randomforestregressor__max_depth=9, randomforestregressor__n_estimators=250; total time=   1.4s\n",
      "[CV] END randomforestregressor__max_depth=9, randomforestregressor__n_estimators=250; total time=   1.4s\n",
      "[CV] END randomforestregressor__max_depth=9, randomforestregressor__n_estimators=250; total time=   1.4s\n",
      "[CV] END randomforestregressor__max_depth=9, randomforestregressor__n_estimators=250; total time=   1.4s\n",
      "[CV] END randomforestregressor__max_depth=9, randomforestregressor__n_estimators=300; total time=   1.6s\n",
      "[CV] END randomforestregressor__max_depth=9, randomforestregressor__n_estimators=300; total time=   1.6s\n",
      "[CV] END randomforestregressor__max_depth=9, randomforestregressor__n_estimators=300; total time=   1.6s\n",
      "[CV] END randomforestregressor__max_depth=9, randomforestregressor__n_estimators=300; total time=   1.6s\n",
      "[CV] END randomforestregressor__max_depth=9, randomforestregressor__n_estimators=300; total time=   1.6s\n",
      "[CV] END randomforestregressor__max_depth=10, randomforestregressor__n_estimators=150; total time=   0.9s\n",
      "[CV] END randomforestregressor__max_depth=10, randomforestregressor__n_estimators=150; total time=   0.9s\n",
      "[CV] END randomforestregressor__max_depth=10, randomforestregressor__n_estimators=150; total time=   0.9s\n",
      "[CV] END randomforestregressor__max_depth=10, randomforestregressor__n_estimators=150; total time=   0.9s\n",
      "[CV] END randomforestregressor__max_depth=10, randomforestregressor__n_estimators=150; total time=   0.9s\n",
      "[CV] END randomforestregressor__max_depth=10, randomforestregressor__n_estimators=200; total time=   1.2s\n",
      "[CV] END randomforestregressor__max_depth=10, randomforestregressor__n_estimators=200; total time=   1.2s\n",
      "[CV] END randomforestregressor__max_depth=10, randomforestregressor__n_estimators=200; total time=   1.2s\n",
      "[CV] END randomforestregressor__max_depth=10, randomforestregressor__n_estimators=200; total time=   1.2s\n",
      "[CV] END randomforestregressor__max_depth=10, randomforestregressor__n_estimators=200; total time=   1.2s\n",
      "[CV] END randomforestregressor__max_depth=10, randomforestregressor__n_estimators=250; total time=   1.5s\n",
      "[CV] END randomforestregressor__max_depth=10, randomforestregressor__n_estimators=250; total time=   1.5s\n",
      "[CV] END randomforestregressor__max_depth=10, randomforestregressor__n_estimators=250; total time=   1.5s\n",
      "[CV] END randomforestregressor__max_depth=10, randomforestregressor__n_estimators=250; total time=   1.5s\n",
      "[CV] END randomforestregressor__max_depth=10, randomforestregressor__n_estimators=250; total time=   1.6s\n",
      "[CV] END randomforestregressor__max_depth=10, randomforestregressor__n_estimators=300; total time=   1.9s\n",
      "[CV] END randomforestregressor__max_depth=10, randomforestregressor__n_estimators=300; total time=   1.8s\n",
      "[CV] END randomforestregressor__max_depth=10, randomforestregressor__n_estimators=300; total time=   1.8s\n"
     ]
    },
    {
     "name": "stdout",
     "output_type": "stream",
     "text": [
      "[CV] END randomforestregressor__max_depth=10, randomforestregressor__n_estimators=300; total time=   1.8s\n",
      "[CV] END randomforestregressor__max_depth=10, randomforestregressor__n_estimators=300; total time=   1.8s\n"
     ]
    }
   ],
   "source": [
    "from sklearn.model_selection import GridSearchCV\n",
    "\n",
    "params = {'randomforestregressor__n_estimators': [150,200,250,300],\n",
    "              'randomforestregressor__max_depth':[7,8,9,10]}\n",
    "\n",
    "# Instanciate Grid Search\n",
    "search = GridSearchCV(pipe, \n",
    "                      param_grid=params, \n",
    "                      scoring = 'neg_root_mean_squared_error',\n",
    "                      cv = 5,\n",
    "                      verbose = 2) \n",
    "\n",
    "# Fit data to Grid Search\n",
    "search.fit(X_train,y_train);"
   ]
  },
  {
   "cell_type": "code",
   "execution_count": 15,
   "metadata": {},
   "outputs": [],
   "source": [
    "#search.get_params().keys()"
   ]
  },
  {
   "cell_type": "code",
   "execution_count": 16,
   "metadata": {},
   "outputs": [
    {
     "data": {
      "text/plain": [
       "{'randomforestregressor__max_depth': 10,\n",
       " 'randomforestregressor__n_estimators': 300}"
      ]
     },
     "execution_count": 16,
     "metadata": {},
     "output_type": "execute_result"
    }
   ],
   "source": [
    "search.best_params_"
   ]
  },
  {
   "cell_type": "code",
   "execution_count": 17,
   "metadata": {},
   "outputs": [
    {
     "data": {
      "text/plain": [
       "-4.1692550112931235"
      ]
     },
     "execution_count": 17,
     "metadata": {},
     "output_type": "execute_result"
    }
   ],
   "source": [
    "from sklearn.model_selection import cross_val_score\n",
    "\n",
    "# Cross validate pipeline\n",
    "cross_val_score(search.best_estimator_, X_train, y_train, cv=5, scoring='neg_root_mean_squared_error').mean()"
   ]
  },
  {
   "cell_type": "code",
   "execution_count": 23,
   "metadata": {},
   "outputs": [
    {
     "name": "stdout",
     "output_type": "stream",
     "text": [
      "4.337806332730922\n"
     ]
    },
    {
     "data": {
      "image/png": "[encoded data removed]",
      "text/plain": [
       "<Figure size 432x288 with 1 Axes>"
      ]
     },
     "metadata": {
      "needs_background": "light"
     },
     "output_type": "display_data"
    }
   ],
   "source": [
    "import matplotlib.pyplot as plt\n",
    "from sklearn.metrics import mean_squared_error\n",
    "import numpy as np\n",
    "y_pred = search.best_estimator_.predict(X_test)\n",
    "plt.plot(y_pred,y_test, marker = '.', linewidth = 0)\n",
    "\n",
    "print(np.sqrt(mean_squared_error(y_test, y_pred)))"
   ]
  },
  {
   "cell_type": "code",
   "execution_count": 24,
   "metadata": {},
   "outputs": [
    {
     "data": {
      "text/html": [
       "<style>#sk-be15e933-4f66-4d75-b4d2-8a01bbaae626 {color: black;background-color: white;}#sk-be15e933-4f66-4d75-b4d2-8a01bbaae626 pre{padding: 0;}#sk-be15e933-4f66-4d75-b4d2-8a01bbaae626 div.sk-toggleable {background-color: white;}#sk-be15e933-4f66-4d75-b4d2-8a01bbaae626 label.sk-toggleable__label {cursor: pointer;display: block;width: 100%;margin-bottom: 0;padding: 0.3em;box-sizing: border-box;text-align: center;}#sk-be15e933-4f66-4d75-b4d2-8a01bbaae626 label.sk-toggleable__label-arrow:before {content: \"▸\";float: left;margin-right: 0.25em;color: #696969;}#sk-be15e933-4f66-4d75-b4d2-8a01bbaae626 label.sk-toggleable__label-arrow:hover:before {color: black;}#sk-be15e933-4f66-4d75-b4d2-8a01bbaae626 div.sk-estimator:hover label.sk-toggleable__label-arrow:before {color: black;}#sk-be15e933-4f66-4d75-b4d2-8a01bbaae626 div.sk-toggleable__content {max-height: 0;max-width: 0;overflow: hidden;text-align: left;background-color: #f0f8ff;}#sk-be15e933-4f66-4d75-b4d2-8a01bbaae626 div.sk-toggleable__content pre {margin: 0.2em;color: black;border-radius: 0.25em;background-color: #f0f8ff;}#sk-be15e933-4f66-4d75-b4d2-8a01bbaae626 input.sk-toggleable__control:checked~div.sk-toggleable__content {max-height: 200px;max-width: 100%;overflow: auto;}#sk-be15e933-4f66-4d75-b4d2-8a01bbaae626 input.sk-toggleable__control:checked~label.sk-toggleable__label-arrow:before {content: \"▾\";}#sk-be15e933-4f66-4d75-b4d2-8a01bbaae626 div.sk-estimator input.sk-toggleable__control:checked~label.sk-toggleable__label {background-color: #d4ebff;}#sk-be15e933-4f66-4d75-b4d2-8a01bbaae626 div.sk-label input.sk-toggleable__control:checked~label.sk-toggleable__label {background-color: #d4ebff;}#sk-be15e933-4f66-4d75-b4d2-8a01bbaae626 input.sk-hidden--visually {border: 0;clip: rect(1px 1px 1px 1px);clip: rect(1px, 1px, 1px, 1px);height: 1px;margin: -1px;overflow: hidden;padding: 0;position: absolute;width: 1px;}#sk-be15e933-4f66-4d75-b4d2-8a01bbaae626 div.sk-estimator {font-family: monospace;background-color: #f0f8ff;border: 1px dotted black;border-radius: 0.25em;box-sizing: border-box;margin-bottom: 0.5em;}#sk-be15e933-4f66-4d75-b4d2-8a01bbaae626 div.sk-estimator:hover {background-color: #d4ebff;}#sk-be15e933-4f66-4d75-b4d2-8a01bbaae626 div.sk-parallel-item::after {content: \"\";width: 100%;border-bottom: 1px solid gray;flex-grow: 1;}#sk-be15e933-4f66-4d75-b4d2-8a01bbaae626 div.sk-label:hover label.sk-toggleable__label {background-color: #d4ebff;}#sk-be15e933-4f66-4d75-b4d2-8a01bbaae626 div.sk-serial::before {content: \"\";position: absolute;border-left: 1px solid gray;box-sizing: border-box;top: 2em;bottom: 0;left: 50%;}#sk-be15e933-4f66-4d75-b4d2-8a01bbaae626 div.sk-serial {display: flex;flex-direction: column;align-items: center;background-color: white;padding-right: 0.2em;padding-left: 0.2em;}#sk-be15e933-4f66-4d75-b4d2-8a01bbaae626 div.sk-item {z-index: 1;}#sk-be15e933-4f66-4d75-b4d2-8a01bbaae626 div.sk-parallel {display: flex;align-items: stretch;justify-content: center;background-color: white;}#sk-be15e933-4f66-4d75-b4d2-8a01bbaae626 div.sk-parallel::before {content: \"\";position: absolute;border-left: 1px solid gray;box-sizing: border-box;top: 2em;bottom: 0;left: 50%;}#sk-be15e933-4f66-4d75-b4d2-8a01bbaae626 div.sk-parallel-item {display: flex;flex-direction: column;position: relative;background-color: white;}#sk-be15e933-4f66-4d75-b4d2-8a01bbaae626 div.sk-parallel-item:first-child::after {align-self: flex-end;width: 50%;}#sk-be15e933-4f66-4d75-b4d2-8a01bbaae626 div.sk-parallel-item:last-child::after {align-self: flex-start;width: 50%;}#sk-be15e933-4f66-4d75-b4d2-8a01bbaae626 div.sk-parallel-item:only-child::after {width: 0;}#sk-be15e933-4f66-4d75-b4d2-8a01bbaae626 div.sk-dashed-wrapped {border: 1px dashed gray;margin: 0 0.4em 0.5em 0.4em;box-sizing: border-box;padding-bottom: 0.4em;background-color: white;position: relative;}#sk-be15e933-4f66-4d75-b4d2-8a01bbaae626 div.sk-label label {font-family: monospace;font-weight: bold;background-color: white;display: inline-block;line-height: 1.2em;}#sk-be15e933-4f66-4d75-b4d2-8a01bbaae626 div.sk-label-container {position: relative;z-index: 2;text-align: center;}#sk-be15e933-4f66-4d75-b4d2-8a01bbaae626 div.sk-container {/* jupyter's `normalize.less` sets `[hidden] { display: none; }` but bootstrap.min.css set `[hidden] { display: none !important; }` so we also need the `!important` here to be able to override the default hidden behavior on the sphinx rendered scikit-learn.org. See: https://github.com/scikit-learn/scikit-learn/issues/21755 */display: inline-block !important;position: relative;}#sk-be15e933-4f66-4d75-b4d2-8a01bbaae626 div.sk-text-repr-fallback {display: none;}</style><div id=\"sk-be15e933-4f66-4d75-b4d2-8a01bbaae626\" class=\"sk-top-container\"><div class=\"sk-text-repr-fallback\"><pre>Pipeline(steps=[(&#x27;featureunion&#x27;,\n",
       "                 FeatureUnion(transformer_list=[(&#x27;preprocess&#x27;,\n",
       "                                                 ColumnTransformer(transformers=[(&#x27;num_tr&#x27;,\n",
       "                                                                                  Pipeline(steps=[(&#x27;scaler&#x27;,\n",
       "                                                                                                   RobustScaler())]),\n",
       "                                                                                  [&#x27;Armour &#x27;\n",
       "                                                                                   &#x27;Mass &#x27;\n",
       "                                                                                   &#x27;[kg]&#x27;,\n",
       "                                                                                   &#x27;Significant &#x27;\n",
       "                                                                                   &#x27;Wave &#x27;\n",
       "                                                                                   &#x27;Height &#x27;\n",
       "                                                                                   &#x27;at &#x27;\n",
       "                                                                                   &#x27;Toe &#x27;\n",
       "                                                                                   &#x27;[m]&#x27;,\n",
       "                                                                                   &#x27;Peak &#x27;\n",
       "                                                                                   &#x27;Wave &#x27;\n",
       "                                                                                   &#x27;Period &#x27;\n",
       "                                                                                   &#x27;[s]&#x27;,\n",
       "                                                                                   &#x27;Number &#x27;\n",
       "                                                                                   &#x27;of &#x27;\n",
       "                                                                                   &#x27;Waves &#x27;\n",
       "                                                                                   &#x27;[-]&#x27;,\n",
       "                                                                                   &#x27;Notional &#x27;\n",
       "                                                                                   &#x27;Permeability &#x27;\n",
       "                                                                                   &#x27;[-]&#x27;]),\n",
       "                                                                                 (&#x27;cat_tr&#x27;,\n",
       "                                                                                  OneHotEncoder(handle_unknown=&#x27;...\n",
       "                                                                                                  FunctionTransformer(func=&lt;function convert_to_coteng at 0x7f522013eb80&gt;)),\n",
       "                                                                                                 (&#x27;depth_toe&#x27;,\n",
       "                                                                                                  FunctionTransformer(func=&lt;function &lt;lambda&gt; at 0x7f522015c310&gt;)),\n",
       "                                                                                                 (&#x27;structure_height&#x27;,\n",
       "                                                                                                  FunctionTransformer(func=&lt;function &lt;lambda&gt; at 0x7f521fa12280&gt;)),\n",
       "                                                                                                 (&#x27;relative_density&#x27;,\n",
       "                                                                                                  FunctionTransformer(func=&lt;function &lt;lambda&gt; at 0x7f521f984790&gt;))])),\n",
       "                                                                 (&#x27;scaler_custom&#x27;,\n",
       "                                                                  RobustScaler())]))])),\n",
       "                (&#x27;randomforestregressor&#x27;, RandomForestRegressor())])</pre><b>Please rerun this cell to show the HTML repr or trust the notebook.</b></div><div class=\"sk-container\" hidden><div class=\"sk-item sk-dashed-wrapped\"><div class=\"sk-label-container\"><div class=\"sk-label sk-toggleable\"><input class=\"sk-toggleable__control sk-hidden--visually\" id=\"f99d821d-f30a-4170-b03a-64cda3449729\" type=\"checkbox\" ><label for=\"f99d821d-f30a-4170-b03a-64cda3449729\" class=\"sk-toggleable__label sk-toggleable__label-arrow\">Pipeline</label><div class=\"sk-toggleable__content\"><pre>Pipeline(steps=[(&#x27;featureunion&#x27;,\n",
       "                 FeatureUnion(transformer_list=[(&#x27;preprocess&#x27;,\n",
       "                                                 ColumnTransformer(transformers=[(&#x27;num_tr&#x27;,\n",
       "                                                                                  Pipeline(steps=[(&#x27;scaler&#x27;,\n",
       "                                                                                                   RobustScaler())]),\n",
       "                                                                                  [&#x27;Armour &#x27;\n",
       "                                                                                   &#x27;Mass &#x27;\n",
       "                                                                                   &#x27;[kg]&#x27;,\n",
       "                                                                                   &#x27;Significant &#x27;\n",
       "                                                                                   &#x27;Wave &#x27;\n",
       "                                                                                   &#x27;Height &#x27;\n",
       "                                                                                   &#x27;at &#x27;\n",
       "                                                                                   &#x27;Toe &#x27;\n",
       "                                                                                   &#x27;[m]&#x27;,\n",
       "                                                                                   &#x27;Peak &#x27;\n",
       "                                                                                   &#x27;Wave &#x27;\n",
       "                                                                                   &#x27;Period &#x27;\n",
       "                                                                                   &#x27;[s]&#x27;,\n",
       "                                                                                   &#x27;Number &#x27;\n",
       "                                                                                   &#x27;of &#x27;\n",
       "                                                                                   &#x27;Waves &#x27;\n",
       "                                                                                   &#x27;[-]&#x27;,\n",
       "                                                                                   &#x27;Notional &#x27;\n",
       "                                                                                   &#x27;Permeability &#x27;\n",
       "                                                                                   &#x27;[-]&#x27;]),\n",
       "                                                                                 (&#x27;cat_tr&#x27;,\n",
       "                                                                                  OneHotEncoder(handle_unknown=&#x27;...\n",
       "                                                                                                  FunctionTransformer(func=&lt;function convert_to_coteng at 0x7f522013eb80&gt;)),\n",
       "                                                                                                 (&#x27;depth_toe&#x27;,\n",
       "                                                                                                  FunctionTransformer(func=&lt;function &lt;lambda&gt; at 0x7f522015c310&gt;)),\n",
       "                                                                                                 (&#x27;structure_height&#x27;,\n",
       "                                                                                                  FunctionTransformer(func=&lt;function &lt;lambda&gt; at 0x7f521fa12280&gt;)),\n",
       "                                                                                                 (&#x27;relative_density&#x27;,\n",
       "                                                                                                  FunctionTransformer(func=&lt;function &lt;lambda&gt; at 0x7f521f984790&gt;))])),\n",
       "                                                                 (&#x27;scaler_custom&#x27;,\n",
       "                                                                  RobustScaler())]))])),\n",
       "                (&#x27;randomforestregressor&#x27;, RandomForestRegressor())])</pre></div></div></div><div class=\"sk-serial\"><div class=\"sk-item sk-dashed-wrapped\"><div class=\"sk-label-container\"><div class=\"sk-label sk-toggleable\"><input class=\"sk-toggleable__control sk-hidden--visually\" id=\"f95d320f-c77a-4ba5-bcb3-b17e65e70f17\" type=\"checkbox\" ><label for=\"f95d320f-c77a-4ba5-bcb3-b17e65e70f17\" class=\"sk-toggleable__label sk-toggleable__label-arrow\">featureunion: FeatureUnion</label><div class=\"sk-toggleable__content\"><pre>FeatureUnion(transformer_list=[(&#x27;preprocess&#x27;,\n",
       "                                ColumnTransformer(transformers=[(&#x27;num_tr&#x27;,\n",
       "                                                                 Pipeline(steps=[(&#x27;scaler&#x27;,\n",
       "                                                                                  RobustScaler())]),\n",
       "                                                                 [&#x27;Armour Mass &#x27;\n",
       "                                                                  &#x27;[kg]&#x27;,\n",
       "                                                                  &#x27;Significant &#x27;\n",
       "                                                                  &#x27;Wave Height &#x27;\n",
       "                                                                  &#x27;at Toe [m]&#x27;,\n",
       "                                                                  &#x27;Peak Wave &#x27;\n",
       "                                                                  &#x27;Period [s]&#x27;,\n",
       "                                                                  &#x27;Number of &#x27;\n",
       "                                                                  &#x27;Waves [-]&#x27;,\n",
       "                                                                  &#x27;Notional &#x27;\n",
       "                                                                  &#x27;Permeability &#x27;\n",
       "                                                                  &#x27;[-]&#x27;]),\n",
       "                                                                (&#x27;cat_tr&#x27;,\n",
       "                                                                 OneHotEncoder(handle_unknown=&#x27;ignore&#x27;),\n",
       "                                                                 [&#x27;Armour &#x27;\n",
       "                                                                  &#x27;Type&#x27;])])),\n",
       "                               (&#x27;custom_tr&#x27;,\n",
       "                                Pipel...\n",
       "                                                                                 FunctionTransformer(func=&lt;function convert_to_coteng at 0x7f522013eb80&gt;)),\n",
       "                                                                                (&#x27;depth_toe&#x27;,\n",
       "                                                                                 FunctionTransformer(func=&lt;function &lt;lambda&gt; at 0x7f522015c310&gt;)),\n",
       "                                                                                (&#x27;structure_height&#x27;,\n",
       "                                                                                 FunctionTransformer(func=&lt;function &lt;lambda&gt; at 0x7f521fa12280&gt;)),\n",
       "                                                                                (&#x27;relative_density&#x27;,\n",
       "                                                                                 FunctionTransformer(func=&lt;function &lt;lambda&gt; at 0x7f521f984790&gt;))])),\n",
       "                                                (&#x27;scaler_custom&#x27;,\n",
       "                                                 RobustScaler())]))])</pre></div></div></div><div class=\"sk-parallel\"><div class=\"sk-parallel-item\"><div class=\"sk-item\"><div class=\"sk-label-container\"><div class=\"sk-label sk-toggleable\"><label>preprocess</label></div></div><div class=\"sk-serial\"><div class=\"sk-item sk-dashed-wrapped\"><div class=\"sk-parallel\"><div class=\"sk-parallel-item\"><div class=\"sk-item\"><div class=\"sk-label-container\"><div class=\"sk-label sk-toggleable\"><input class=\"sk-toggleable__control sk-hidden--visually\" id=\"74b133e1-05b8-455d-b0eb-d35a8d797a48\" type=\"checkbox\" ><label for=\"74b133e1-05b8-455d-b0eb-d35a8d797a48\" class=\"sk-toggleable__label sk-toggleable__label-arrow\">num_tr</label><div class=\"sk-toggleable__content\"><pre>[&#x27;Armour Mass [kg]&#x27;, &#x27;Significant Wave Height at Toe [m]&#x27;, &#x27;Peak Wave Period [s]&#x27;, &#x27;Number of Waves [-]&#x27;, &#x27;Notional Permeability [-]&#x27;]</pre></div></div></div><div class=\"sk-serial\"><div class=\"sk-item\"><div class=\"sk-serial\"><div class=\"sk-item\"><div class=\"sk-estimator sk-toggleable\"><input class=\"sk-toggleable__control sk-hidden--visually\" id=\"925936c2-d3cf-4316-a748-d739b41f7501\" type=\"checkbox\" ><label for=\"925936c2-d3cf-4316-a748-d739b41f7501\" class=\"sk-toggleable__label sk-toggleable__label-arrow\">RobustScaler</label><div class=\"sk-toggleable__content\"><pre>RobustScaler()</pre></div></div></div></div></div></div></div></div><div class=\"sk-parallel-item\"><div class=\"sk-item\"><div class=\"sk-label-container\"><div class=\"sk-label sk-toggleable\"><input class=\"sk-toggleable__control sk-hidden--visually\" id=\"cdbb1d65-de47-4140-8bcf-ecb2b72f03aa\" type=\"checkbox\" ><label for=\"cdbb1d65-de47-4140-8bcf-ecb2b72f03aa\" class=\"sk-toggleable__label sk-toggleable__label-arrow\">cat_tr</label><div class=\"sk-toggleable__content\"><pre>[&#x27;Armour Type&#x27;]</pre></div></div></div><div class=\"sk-serial\"><div class=\"sk-item\"><div class=\"sk-estimator sk-toggleable\"><input class=\"sk-toggleable__control sk-hidden--visually\" id=\"003937a0-a13d-4b9f-950a-44fb947f8334\" type=\"checkbox\" ><label for=\"003937a0-a13d-4b9f-950a-44fb947f8334\" class=\"sk-toggleable__label sk-toggleable__label-arrow\">OneHotEncoder</label><div class=\"sk-toggleable__content\"><pre>OneHotEncoder(handle_unknown=&#x27;ignore&#x27;)</pre></div></div></div></div></div></div></div></div></div></div></div><div class=\"sk-parallel-item\"><div class=\"sk-item\"><div class=\"sk-label-container\"><div class=\"sk-label sk-toggleable\"><label>custom_tr</label></div></div><div class=\"sk-serial\"><div class=\"sk-item\"><div class=\"sk-serial\"><div class=\"sk-item sk-dashed-wrapped\"><div class=\"sk-label-container\"><div class=\"sk-label sk-toggleable\"><input class=\"sk-toggleable__control sk-hidden--visually\" id=\"47f69d61-702b-4225-8a77-0ba3aa9ba657\" type=\"checkbox\" ><label for=\"47f69d61-702b-4225-8a77-0ba3aa9ba657\" class=\"sk-toggleable__label sk-toggleable__label-arrow\">union_custom_transformer: FeatureUnion</label><div class=\"sk-toggleable__content\"><pre>FeatureUnion(transformer_list=[(&#x27;coteng&#x27;,\n",
       "                                FunctionTransformer(func=&lt;function convert_to_coteng at 0x7f522013eb80&gt;)),\n",
       "                               (&#x27;depth_toe&#x27;,\n",
       "                                FunctionTransformer(func=&lt;function &lt;lambda&gt; at 0x7f522015c310&gt;)),\n",
       "                               (&#x27;structure_height&#x27;,\n",
       "                                FunctionTransformer(func=&lt;function &lt;lambda&gt; at 0x7f521fa12280&gt;)),\n",
       "                               (&#x27;relative_density&#x27;,\n",
       "                                FunctionTransformer(func=&lt;function &lt;lambda&gt; at 0x7f521f984790&gt;))])</pre></div></div></div><div class=\"sk-parallel\"><div class=\"sk-parallel-item\"><div class=\"sk-item\"><div class=\"sk-label-container\"><div class=\"sk-label sk-toggleable\"><label>coteng</label></div></div><div class=\"sk-serial\"><div class=\"sk-item\"><div class=\"sk-estimator sk-toggleable\"><input class=\"sk-toggleable__control sk-hidden--visually\" id=\"75541b93-c0c4-455e-8eb4-d9c2c8fd362f\" type=\"checkbox\" ><label for=\"75541b93-c0c4-455e-8eb4-d9c2c8fd362f\" class=\"sk-toggleable__label sk-toggleable__label-arrow\">FunctionTransformer</label><div class=\"sk-toggleable__content\"><pre>FunctionTransformer(func=&lt;function convert_to_coteng at 0x7f522013eb80&gt;)</pre></div></div></div></div></div></div><div class=\"sk-parallel-item\"><div class=\"sk-item\"><div class=\"sk-label-container\"><div class=\"sk-label sk-toggleable\"><label>depth_toe</label></div></div><div class=\"sk-serial\"><div class=\"sk-item\"><div class=\"sk-estimator sk-toggleable\"><input class=\"sk-toggleable__control sk-hidden--visually\" id=\"004ba7df-e7d9-4f29-bdf4-e320a71934e8\" type=\"checkbox\" ><label for=\"004ba7df-e7d9-4f29-bdf4-e320a71934e8\" class=\"sk-toggleable__label sk-toggleable__label-arrow\">FunctionTransformer</label><div class=\"sk-toggleable__content\"><pre>FunctionTransformer(func=&lt;function &lt;lambda&gt; at 0x7f522015c310&gt;)</pre></div></div></div></div></div></div><div class=\"sk-parallel-item\"><div class=\"sk-item\"><div class=\"sk-label-container\"><div class=\"sk-label sk-toggleable\"><label>structure_height</label></div></div><div class=\"sk-serial\"><div class=\"sk-item\"><div class=\"sk-estimator sk-toggleable\"><input class=\"sk-toggleable__control sk-hidden--visually\" id=\"92e903af-0b27-4aed-b014-558738a8075a\" type=\"checkbox\" ><label for=\"92e903af-0b27-4aed-b014-558738a8075a\" class=\"sk-toggleable__label sk-toggleable__label-arrow\">FunctionTransformer</label><div class=\"sk-toggleable__content\"><pre>FunctionTransformer(func=&lt;function &lt;lambda&gt; at 0x7f521fa12280&gt;)</pre></div></div></div></div></div></div><div class=\"sk-parallel-item\"><div class=\"sk-item\"><div class=\"sk-label-container\"><div class=\"sk-label sk-toggleable\"><label>relative_density</label></div></div><div class=\"sk-serial\"><div class=\"sk-item\"><div class=\"sk-estimator sk-toggleable\"><input class=\"sk-toggleable__control sk-hidden--visually\" id=\"84b3ca6a-779c-4866-beb5-8fef1ff56c47\" type=\"checkbox\" ><label for=\"84b3ca6a-779c-4866-beb5-8fef1ff56c47\" class=\"sk-toggleable__label sk-toggleable__label-arrow\">FunctionTransformer</label><div class=\"sk-toggleable__content\"><pre>FunctionTransformer(func=&lt;function &lt;lambda&gt; at 0x7f521f984790&gt;)</pre></div></div></div></div></div></div></div></div><div class=\"sk-item\"><div class=\"sk-estimator sk-toggleable\"><input class=\"sk-toggleable__control sk-hidden--visually\" id=\"61f693a1-5d8c-4d98-9415-091141e2579a\" type=\"checkbox\" ><label for=\"61f693a1-5d8c-4d98-9415-091141e2579a\" class=\"sk-toggleable__label sk-toggleable__label-arrow\">RobustScaler</label><div class=\"sk-toggleable__content\"><pre>RobustScaler()</pre></div></div></div></div></div></div></div></div></div></div><div class=\"sk-item\"><div class=\"sk-estimator sk-toggleable\"><input class=\"sk-toggleable__control sk-hidden--visually\" id=\"a578e6a6-8bf9-4fca-ab85-6fe7238d597c\" type=\"checkbox\" ><label for=\"a578e6a6-8bf9-4fca-ab85-6fe7238d597c\" class=\"sk-toggleable__label sk-toggleable__label-arrow\">RandomForestRegressor</label><div class=\"sk-toggleable__content\"><pre>RandomForestRegressor()</pre></div></div></div></div></div></div></div>"
      ],
      "text/plain": [
       "Pipeline(steps=[('featureunion',\n",
       "                 FeatureUnion(transformer_list=[('preprocess',\n",
       "                                                 ColumnTransformer(transformers=[('num_tr',\n",
       "                                                                                  Pipeline(steps=[('scaler',\n",
       "                                                                                                   RobustScaler())]),\n",
       "                                                                                  ['Armour '\n",
       "                                                                                   'Mass '\n",
       "                                                                                   '[kg]',\n",
       "                                                                                   'Significant '\n",
       "                                                                                   'Wave '\n",
       "                                                                                   'Height '\n",
       "                                                                                   'at '\n",
       "                                                                                   'Toe '\n",
       "                                                                                   '[m]',\n",
       "                                                                                   'Peak '\n",
       "                                                                                   'Wave '\n",
       "                                                                                   'Period '\n",
       "                                                                                   '[s]',\n",
       "                                                                                   'Number '\n",
       "                                                                                   'of '\n",
       "                                                                                   'Waves '\n",
       "                                                                                   '[-]',\n",
       "                                                                                   'Notional '\n",
       "                                                                                   'Permeability '\n",
       "                                                                                   '[-]']),\n",
       "                                                                                 ('cat_tr',\n",
       "                                                                                  OneHotEncoder(handle_unknown='...\n",
       "                                                                                                  FunctionTransformer(func=<function convert_to_coteng at 0x7f522013eb80>)),\n",
       "                                                                                                 ('depth_toe',\n",
       "                                                                                                  FunctionTransformer(func=<function <lambda> at 0x7f522015c310>)),\n",
       "                                                                                                 ('structure_height',\n",
       "                                                                                                  FunctionTransformer(func=<function <lambda> at 0x7f521fa12280>)),\n",
       "                                                                                                 ('relative_density',\n",
       "                                                                                                  FunctionTransformer(func=<function <lambda> at 0x7f521f984790>))])),\n",
       "                                                                 ('scaler_custom',\n",
       "                                                                  RobustScaler())]))])),\n",
       "                ('randomforestregressor', RandomForestRegressor())])"
      ]
     },
     "execution_count": 24,
     "metadata": {},
     "output_type": "execute_result"
    }
   ],
   "source": [
    "# Train pipeline\n",
    "pipe.fit(X_train,y_train)\n"
   ]
  },
  {
   "cell_type": "code",
   "execution_count": 27,
   "metadata": {},
   "outputs": [
    {
     "name": "stdout",
     "output_type": "stream",
     "text": [
      "3.2818057708138135\n"
     ]
    },
    {
     "data": {
      "image/png": "[encoded data removed]",
      "text/plain": [
       "<Figure size 432x288 with 1 Axes>"
      ]
     },
     "metadata": {
      "needs_background": "light"
     },
     "output_type": "display_data"
    }
   ],
   "source": [
    "y_pred_train = search.best_estimator_.predict(X_train)\n",
    "plt.plot(y_pred_train,y_train, marker = '.', linewidth = 0)\n",
    "\n",
    "print(np.sqrt(mean_squared_error(y_train, y_pred_train)))"
   ]
  },
  {
   "cell_type": "code",
   "execution_count": null,
   "metadata": {},
   "outputs": [],
   "source": []
  },
  {
   "cell_type": "code",
   "execution_count": 26,
   "metadata": {},
   "outputs": [
    {
     "data": {
      "text/plain": [
       "0.9391286166139043"
      ]
     },
     "execution_count": 26,
     "metadata": {},
     "output_type": "execute_result"
    }
   ],
   "source": [
    "pipe.score(X_train,y_train)"
   ]
  },
  {
   "cell_type": "code",
   "execution_count": null,
   "metadata": {},
   "outputs": [],
   "source": []
  },
  {
   "cell_type": "code",
   "execution_count": 28,
   "metadata": {},
   "outputs": [
    {
     "data": {
      "text/plain": [
       "-3.938059126212771"
      ]
     },
     "execution_count": 28,
     "metadata": {},
     "output_type": "execute_result"
    }
   ],
   "source": [
    "from sklearn.model_selection import cross_val_score\n",
    "\n",
    "cross_val_score(pipe, X_train, y_train, cv=5, scoring='neg_root_mean_squared_error').mean()"
   ]
  },
  {
   "cell_type": "code",
   "execution_count": 29,
   "metadata": {},
   "outputs": [
    {
     "data": {
      "text/plain": [
       "dict_keys(['explained_variance', 'r2', 'max_error', 'neg_median_absolute_error', 'neg_mean_absolute_error', 'neg_mean_absolute_percentage_error', 'neg_mean_squared_error', 'neg_mean_squared_log_error', 'neg_root_mean_squared_error', 'neg_mean_poisson_deviance', 'neg_mean_gamma_deviance', 'accuracy', 'top_k_accuracy', 'roc_auc', 'roc_auc_ovr', 'roc_auc_ovo', 'roc_auc_ovr_weighted', 'roc_auc_ovo_weighted', 'balanced_accuracy', 'average_precision', 'neg_log_loss', 'neg_brier_score', 'adjusted_rand_score', 'rand_score', 'homogeneity_score', 'completeness_score', 'v_measure_score', 'mutual_info_score', 'adjusted_mutual_info_score', 'normalized_mutual_info_score', 'fowlkes_mallows_score', 'precision', 'precision_macro', 'precision_micro', 'precision_samples', 'precision_weighted', 'recall', 'recall_macro', 'recall_micro', 'recall_samples', 'recall_weighted', 'f1', 'f1_macro', 'f1_micro', 'f1_samples', 'f1_weighted', 'jaccard', 'jaccard_macro', 'jaccard_micro', 'jaccard_samples', 'jaccard_weighted'])"
      ]
     },
     "execution_count": 29,
     "metadata": {},
     "output_type": "execute_result"
    }
   ],
   "source": [
    "import sklearn.metrics\n",
    "sklearn.metrics.SCORERS.keys()"
   ]
  },
  {
   "cell_type": "code",
   "execution_count": 30,
   "metadata": {},
   "outputs": [
    {
     "data": {
      "text/plain": [
       "[<matplotlib.lines.Line2D at 0x7f521802fe50>]"
      ]
     },
     "execution_count": 30,
     "metadata": {},
     "output_type": "execute_result"
    },
    {
     "data": {
      "image/png": "[encoded data removed]",
      "text/plain": [
       "<Figure size 432x288 with 1 Axes>"
      ]
     },
     "metadata": {
      "needs_background": "light"
     },
     "output_type": "display_data"
    }
   ],
   "source": [
    "mask1 = X_test['Armour Type'] == 'ROCK'\n",
    "mask2 = X_test['Armour Type'] == 'XBLOCK'\n",
    "mask3 = X_test['Armour Type'] == 'HANBAR'\n",
    "\n",
    "plt.plot(pipe.predict(X_test[mask1]),y_test[mask1], marker = '.', linewidth = 0)\n",
    "plt.plot(pipe.predict(X_test[mask2]),y_test[mask2], marker = '.', linewidth = 0)\n",
    "plt.plot(pipe.predict(X_test[mask3]),y_test[mask3], marker = '.', linewidth = 0)"
   ]
  },
  {
   "cell_type": "code",
   "execution_count": 31,
   "metadata": {},
   "outputs": [
    {
     "data": {
      "text/plain": [
       "array(['ROCK', 'XBLOCK', 'HANBAR'], dtype=object)"
      ]
     },
     "execution_count": 31,
     "metadata": {},
     "output_type": "execute_result"
    }
   ],
   "source": [
    "X_test['Armour Type'].unique()"
   ]
  },
  {
   "cell_type": "code",
   "execution_count": 57,
   "metadata": {},
   "outputs": [
    {
     "name": "stderr",
     "output_type": "stream",
     "text": [
      "/tmp/ipykernel_3378/3537403322.py:24: DeprecationWarning: KerasRegressor is deprecated, use Sci-Keras (https://github.com/adriangb/scikeras) instead.\n",
      "  clf = KerasRegressor(build_fn=create_model,verbose=0)\n"
     ]
    }
   ],
   "source": [
    "from tensorflow import keras\n",
    "from keras.layers import Dense, Dropout\n",
    "from keras.models import Model, Sequential\n",
    "from keras.wrappers.scikit_learn import KerasRegressor\n",
    "from sklearn.model_selection import GridSearchCV\n",
    "\n",
    "# create a function that returns a model, taking as parameters things you\n",
    "# want to verify using cross-valdiation and model selection\n",
    "def create_model(optimizer='adagrad',\n",
    "                 kernel_initializer='glorot_uniform', \n",
    "                 dropout=0.2):\n",
    "    model = Sequential()\n",
    "    model.add(Dense(64,activation='relu',kernel_initializer=kernel_initializer))\n",
    "    model.add(Dropout(dropout))\n",
    "    model.add(Dense(32,activation='relu',kernel_initializer=kernel_initializer))\n",
    "    model.add(Dense(16,activation='relu',kernel_initializer=kernel_initializer))\n",
    "    model.add(Dense(1,activation='relu',kernel_initializer=kernel_initializer))\n",
    "\n",
    "    model.compile(loss='mse',optimizer=optimizer, metrics=[keras.metrics.MeanSquaredError(name=\"mean_squared_error\", dtype=None)])\n",
    "\n",
    "    return model\n",
    "\n",
    "# wrap the model using the function you created\n",
    "clf = KerasRegressor(build_fn=create_model,verbose=0)\n",
    "\n",
    "\n",
    "\n",
    "param_grid = {\n",
    "    'clf__optimizer':['adam'],\n",
    "    'clf__epochs':[200,250,300],\n",
    "    'clf__dropout':[0.12,0.15,0.18],\n",
    "    'clf__kernel_initializer':['glorot_uniform']\n",
    "}\n",
    "\n",
    "pipeline = Pipeline([\n",
    "    ('preprocess',preproc),\n",
    "    ('clf',clf)\n",
    "])\n",
    "\n"
   ]
  },
  {
   "cell_type": "code",
   "execution_count": 58,
   "metadata": {},
   "outputs": [
    {
     "data": {
      "text/html": [
       "<style>#sk-187b1f12-0f97-4d00-bc6c-76b4d5207a01 {color: black;background-color: white;}#sk-187b1f12-0f97-4d00-bc6c-76b4d5207a01 pre{padding: 0;}#sk-187b1f12-0f97-4d00-bc6c-76b4d5207a01 div.sk-toggleable {background-color: white;}#sk-187b1f12-0f97-4d00-bc6c-76b4d5207a01 label.sk-toggleable__label {cursor: pointer;display: block;width: 100%;margin-bottom: 0;padding: 0.3em;box-sizing: border-box;text-align: center;}#sk-187b1f12-0f97-4d00-bc6c-76b4d5207a01 label.sk-toggleable__label-arrow:before {content: \"▸\";float: left;margin-right: 0.25em;color: #696969;}#sk-187b1f12-0f97-4d00-bc6c-76b4d5207a01 label.sk-toggleable__label-arrow:hover:before {color: black;}#sk-187b1f12-0f97-4d00-bc6c-76b4d5207a01 div.sk-estimator:hover label.sk-toggleable__label-arrow:before {color: black;}#sk-187b1f12-0f97-4d00-bc6c-76b4d5207a01 div.sk-toggleable__content {max-height: 0;max-width: 0;overflow: hidden;text-align: left;background-color: #f0f8ff;}#sk-187b1f12-0f97-4d00-bc6c-76b4d5207a01 div.sk-toggleable__content pre {margin: 0.2em;color: black;border-radius: 0.25em;background-color: #f0f8ff;}#sk-187b1f12-0f97-4d00-bc6c-76b4d5207a01 input.sk-toggleable__control:checked~div.sk-toggleable__content {max-height: 200px;max-width: 100%;overflow: auto;}#sk-187b1f12-0f97-4d00-bc6c-76b4d5207a01 input.sk-toggleable__control:checked~label.sk-toggleable__label-arrow:before {content: \"▾\";}#sk-187b1f12-0f97-4d00-bc6c-76b4d5207a01 div.sk-estimator input.sk-toggleable__control:checked~label.sk-toggleable__label {background-color: #d4ebff;}#sk-187b1f12-0f97-4d00-bc6c-76b4d5207a01 div.sk-label input.sk-toggleable__control:checked~label.sk-toggleable__label {background-color: #d4ebff;}#sk-187b1f12-0f97-4d00-bc6c-76b4d5207a01 input.sk-hidden--visually {border: 0;clip: rect(1px 1px 1px 1px);clip: rect(1px, 1px, 1px, 1px);height: 1px;margin: -1px;overflow: hidden;padding: 0;position: absolute;width: 1px;}#sk-187b1f12-0f97-4d00-bc6c-76b4d5207a01 div.sk-estimator {font-family: monospace;background-color: #f0f8ff;border: 1px dotted black;border-radius: 0.25em;box-sizing: border-box;margin-bottom: 0.5em;}#sk-187b1f12-0f97-4d00-bc6c-76b4d5207a01 div.sk-estimator:hover {background-color: #d4ebff;}#sk-187b1f12-0f97-4d00-bc6c-76b4d5207a01 div.sk-parallel-item::after {content: \"\";width: 100%;border-bottom: 1px solid gray;flex-grow: 1;}#sk-187b1f12-0f97-4d00-bc6c-76b4d5207a01 div.sk-label:hover label.sk-toggleable__label {background-color: #d4ebff;}#sk-187b1f12-0f97-4d00-bc6c-76b4d5207a01 div.sk-serial::before {content: \"\";position: absolute;border-left: 1px solid gray;box-sizing: border-box;top: 2em;bottom: 0;left: 50%;}#sk-187b1f12-0f97-4d00-bc6c-76b4d5207a01 div.sk-serial {display: flex;flex-direction: column;align-items: center;background-color: white;padding-right: 0.2em;padding-left: 0.2em;}#sk-187b1f12-0f97-4d00-bc6c-76b4d5207a01 div.sk-item {z-index: 1;}#sk-187b1f12-0f97-4d00-bc6c-76b4d5207a01 div.sk-parallel {display: flex;align-items: stretch;justify-content: center;background-color: white;}#sk-187b1f12-0f97-4d00-bc6c-76b4d5207a01 div.sk-parallel::before {content: \"\";position: absolute;border-left: 1px solid gray;box-sizing: border-box;top: 2em;bottom: 0;left: 50%;}#sk-187b1f12-0f97-4d00-bc6c-76b4d5207a01 div.sk-parallel-item {display: flex;flex-direction: column;position: relative;background-color: white;}#sk-187b1f12-0f97-4d00-bc6c-76b4d5207a01 div.sk-parallel-item:first-child::after {align-self: flex-end;width: 50%;}#sk-187b1f12-0f97-4d00-bc6c-76b4d5207a01 div.sk-parallel-item:last-child::after {align-self: flex-start;width: 50%;}#sk-187b1f12-0f97-4d00-bc6c-76b4d5207a01 div.sk-parallel-item:only-child::after {width: 0;}#sk-187b1f12-0f97-4d00-bc6c-76b4d5207a01 div.sk-dashed-wrapped {border: 1px dashed gray;margin: 0 0.4em 0.5em 0.4em;box-sizing: border-box;padding-bottom: 0.4em;background-color: white;position: relative;}#sk-187b1f12-0f97-4d00-bc6c-76b4d5207a01 div.sk-label label {font-family: monospace;font-weight: bold;background-color: white;display: inline-block;line-height: 1.2em;}#sk-187b1f12-0f97-4d00-bc6c-76b4d5207a01 div.sk-label-container {position: relative;z-index: 2;text-align: center;}#sk-187b1f12-0f97-4d00-bc6c-76b4d5207a01 div.sk-container {/* jupyter's `normalize.less` sets `[hidden] { display: none; }` but bootstrap.min.css set `[hidden] { display: none !important; }` so we also need the `!important` here to be able to override the default hidden behavior on the sphinx rendered scikit-learn.org. See: https://github.com/scikit-learn/scikit-learn/issues/21755 */display: inline-block !important;position: relative;}#sk-187b1f12-0f97-4d00-bc6c-76b4d5207a01 div.sk-text-repr-fallback {display: none;}</style><div id=\"sk-187b1f12-0f97-4d00-bc6c-76b4d5207a01\" class=\"sk-top-container\"><div class=\"sk-text-repr-fallback\"><pre>Pipeline(steps=[(&#x27;preprocess&#x27;,\n",
       "                 FeatureUnion(transformer_list=[(&#x27;preprocess&#x27;,\n",
       "                                                 ColumnTransformer(transformers=[(&#x27;num_tr&#x27;,\n",
       "                                                                                  Pipeline(steps=[(&#x27;scaler&#x27;,\n",
       "                                                                                                   RobustScaler())]),\n",
       "                                                                                  [&#x27;Armour &#x27;\n",
       "                                                                                   &#x27;Mass &#x27;\n",
       "                                                                                   &#x27;[kg]&#x27;,\n",
       "                                                                                   &#x27;Significant &#x27;\n",
       "                                                                                   &#x27;Wave &#x27;\n",
       "                                                                                   &#x27;Height &#x27;\n",
       "                                                                                   &#x27;at &#x27;\n",
       "                                                                                   &#x27;Toe &#x27;\n",
       "                                                                                   &#x27;[m]&#x27;,\n",
       "                                                                                   &#x27;Peak &#x27;\n",
       "                                                                                   &#x27;Wave &#x27;\n",
       "                                                                                   &#x27;Period &#x27;\n",
       "                                                                                   &#x27;[s]&#x27;,\n",
       "                                                                                   &#x27;Number &#x27;\n",
       "                                                                                   &#x27;of &#x27;\n",
       "                                                                                   &#x27;Waves &#x27;\n",
       "                                                                                   &#x27;[-]&#x27;,\n",
       "                                                                                   &#x27;Notional &#x27;\n",
       "                                                                                   &#x27;Permeability &#x27;\n",
       "                                                                                   &#x27;[-]&#x27;]),\n",
       "                                                                                 (&#x27;cat_tr&#x27;,\n",
       "                                                                                  OneHotEncoder(handle_unknown=&#x27;ig...\n",
       "                                                                                                 (&#x27;depth_toe&#x27;,\n",
       "                                                                                                  FunctionTransformer(func=&lt;function &lt;lambda&gt; at 0x7f522015c310&gt;)),\n",
       "                                                                                                 (&#x27;structure_height&#x27;,\n",
       "                                                                                                  FunctionTransformer(func=&lt;function &lt;lambda&gt; at 0x7f521fa12280&gt;)),\n",
       "                                                                                                 (&#x27;relative_density&#x27;,\n",
       "                                                                                                  FunctionTransformer(func=&lt;function &lt;lambda&gt; at 0x7f521f984790&gt;))])),\n",
       "                                                                 (&#x27;scaler_custom&#x27;,\n",
       "                                                                  RobustScaler())]))])),\n",
       "                (&#x27;clf&#x27;,\n",
       "                 &lt;keras.wrappers.scikit_learn.KerasRegressor object at 0x7f516744a520&gt;)])</pre><b>Please rerun this cell to show the HTML repr or trust the notebook.</b></div><div class=\"sk-container\" hidden><div class=\"sk-item sk-dashed-wrapped\"><div class=\"sk-label-container\"><div class=\"sk-label sk-toggleable\"><input class=\"sk-toggleable__control sk-hidden--visually\" id=\"b5733cc3-501c-457a-9d22-309515564f7b\" type=\"checkbox\" ><label for=\"b5733cc3-501c-457a-9d22-309515564f7b\" class=\"sk-toggleable__label sk-toggleable__label-arrow\">Pipeline</label><div class=\"sk-toggleable__content\"><pre>Pipeline(steps=[(&#x27;preprocess&#x27;,\n",
       "                 FeatureUnion(transformer_list=[(&#x27;preprocess&#x27;,\n",
       "                                                 ColumnTransformer(transformers=[(&#x27;num_tr&#x27;,\n",
       "                                                                                  Pipeline(steps=[(&#x27;scaler&#x27;,\n",
       "                                                                                                   RobustScaler())]),\n",
       "                                                                                  [&#x27;Armour &#x27;\n",
       "                                                                                   &#x27;Mass &#x27;\n",
       "                                                                                   &#x27;[kg]&#x27;,\n",
       "                                                                                   &#x27;Significant &#x27;\n",
       "                                                                                   &#x27;Wave &#x27;\n",
       "                                                                                   &#x27;Height &#x27;\n",
       "                                                                                   &#x27;at &#x27;\n",
       "                                                                                   &#x27;Toe &#x27;\n",
       "                                                                                   &#x27;[m]&#x27;,\n",
       "                                                                                   &#x27;Peak &#x27;\n",
       "                                                                                   &#x27;Wave &#x27;\n",
       "                                                                                   &#x27;Period &#x27;\n",
       "                                                                                   &#x27;[s]&#x27;,\n",
       "                                                                                   &#x27;Number &#x27;\n",
       "                                                                                   &#x27;of &#x27;\n",
       "                                                                                   &#x27;Waves &#x27;\n",
       "                                                                                   &#x27;[-]&#x27;,\n",
       "                                                                                   &#x27;Notional &#x27;\n",
       "                                                                                   &#x27;Permeability &#x27;\n",
       "                                                                                   &#x27;[-]&#x27;]),\n",
       "                                                                                 (&#x27;cat_tr&#x27;,\n",
       "                                                                                  OneHotEncoder(handle_unknown=&#x27;ig...\n",
       "                                                                                                 (&#x27;depth_toe&#x27;,\n",
       "                                                                                                  FunctionTransformer(func=&lt;function &lt;lambda&gt; at 0x7f522015c310&gt;)),\n",
       "                                                                                                 (&#x27;structure_height&#x27;,\n",
       "                                                                                                  FunctionTransformer(func=&lt;function &lt;lambda&gt; at 0x7f521fa12280&gt;)),\n",
       "                                                                                                 (&#x27;relative_density&#x27;,\n",
       "                                                                                                  FunctionTransformer(func=&lt;function &lt;lambda&gt; at 0x7f521f984790&gt;))])),\n",
       "                                                                 (&#x27;scaler_custom&#x27;,\n",
       "                                                                  RobustScaler())]))])),\n",
       "                (&#x27;clf&#x27;,\n",
       "                 &lt;keras.wrappers.scikit_learn.KerasRegressor object at 0x7f516744a520&gt;)])</pre></div></div></div><div class=\"sk-serial\"><div class=\"sk-item sk-dashed-wrapped\"><div class=\"sk-label-container\"><div class=\"sk-label sk-toggleable\"><input class=\"sk-toggleable__control sk-hidden--visually\" id=\"fbb35129-f105-4b00-91d6-6d6833c57e7b\" type=\"checkbox\" ><label for=\"fbb35129-f105-4b00-91d6-6d6833c57e7b\" class=\"sk-toggleable__label sk-toggleable__label-arrow\">preprocess: FeatureUnion</label><div class=\"sk-toggleable__content\"><pre>FeatureUnion(transformer_list=[(&#x27;preprocess&#x27;,\n",
       "                                ColumnTransformer(transformers=[(&#x27;num_tr&#x27;,\n",
       "                                                                 Pipeline(steps=[(&#x27;scaler&#x27;,\n",
       "                                                                                  RobustScaler())]),\n",
       "                                                                 [&#x27;Armour Mass &#x27;\n",
       "                                                                  &#x27;[kg]&#x27;,\n",
       "                                                                  &#x27;Significant &#x27;\n",
       "                                                                  &#x27;Wave Height &#x27;\n",
       "                                                                  &#x27;at Toe [m]&#x27;,\n",
       "                                                                  &#x27;Peak Wave &#x27;\n",
       "                                                                  &#x27;Period [s]&#x27;,\n",
       "                                                                  &#x27;Number of &#x27;\n",
       "                                                                  &#x27;Waves [-]&#x27;,\n",
       "                                                                  &#x27;Notional &#x27;\n",
       "                                                                  &#x27;Permeability &#x27;\n",
       "                                                                  &#x27;[-]&#x27;]),\n",
       "                                                                (&#x27;cat_tr&#x27;,\n",
       "                                                                 OneHotEncoder(handle_unknown=&#x27;ignore&#x27;),\n",
       "                                                                 [&#x27;Armour &#x27;\n",
       "                                                                  &#x27;Type&#x27;])])),\n",
       "                               (&#x27;custom_tr&#x27;,\n",
       "                                Pipel...\n",
       "                                                                                 FunctionTransformer(func=&lt;function convert_to_coteng at 0x7f522013eb80&gt;)),\n",
       "                                                                                (&#x27;depth_toe&#x27;,\n",
       "                                                                                 FunctionTransformer(func=&lt;function &lt;lambda&gt; at 0x7f522015c310&gt;)),\n",
       "                                                                                (&#x27;structure_height&#x27;,\n",
       "                                                                                 FunctionTransformer(func=&lt;function &lt;lambda&gt; at 0x7f521fa12280&gt;)),\n",
       "                                                                                (&#x27;relative_density&#x27;,\n",
       "                                                                                 FunctionTransformer(func=&lt;function &lt;lambda&gt; at 0x7f521f984790&gt;))])),\n",
       "                                                (&#x27;scaler_custom&#x27;,\n",
       "                                                 RobustScaler())]))])</pre></div></div></div><div class=\"sk-parallel\"><div class=\"sk-parallel-item\"><div class=\"sk-item\"><div class=\"sk-label-container\"><div class=\"sk-label sk-toggleable\"><label>preprocess</label></div></div><div class=\"sk-serial\"><div class=\"sk-item sk-dashed-wrapped\"><div class=\"sk-parallel\"><div class=\"sk-parallel-item\"><div class=\"sk-item\"><div class=\"sk-label-container\"><div class=\"sk-label sk-toggleable\"><input class=\"sk-toggleable__control sk-hidden--visually\" id=\"8dba8b7c-e473-4e82-82f0-9fbd6280c302\" type=\"checkbox\" ><label for=\"8dba8b7c-e473-4e82-82f0-9fbd6280c302\" class=\"sk-toggleable__label sk-toggleable__label-arrow\">num_tr</label><div class=\"sk-toggleable__content\"><pre>[&#x27;Armour Mass [kg]&#x27;, &#x27;Significant Wave Height at Toe [m]&#x27;, &#x27;Peak Wave Period [s]&#x27;, &#x27;Number of Waves [-]&#x27;, &#x27;Notional Permeability [-]&#x27;]</pre></div></div></div><div class=\"sk-serial\"><div class=\"sk-item\"><div class=\"sk-serial\"><div class=\"sk-item\"><div class=\"sk-estimator sk-toggleable\"><input class=\"sk-toggleable__control sk-hidden--visually\" id=\"bbbf5cd4-b2e0-45cc-9145-8793908ec2cd\" type=\"checkbox\" ><label for=\"bbbf5cd4-b2e0-45cc-9145-8793908ec2cd\" class=\"sk-toggleable__label sk-toggleable__label-arrow\">RobustScaler</label><div class=\"sk-toggleable__content\"><pre>RobustScaler()</pre></div></div></div></div></div></div></div></div><div class=\"sk-parallel-item\"><div class=\"sk-item\"><div class=\"sk-label-container\"><div class=\"sk-label sk-toggleable\"><input class=\"sk-toggleable__control sk-hidden--visually\" id=\"f6046995-9042-4646-9969-b9de6d7ee4dc\" type=\"checkbox\" ><label for=\"f6046995-9042-4646-9969-b9de6d7ee4dc\" class=\"sk-toggleable__label sk-toggleable__label-arrow\">cat_tr</label><div class=\"sk-toggleable__content\"><pre>[&#x27;Armour Type&#x27;]</pre></div></div></div><div class=\"sk-serial\"><div class=\"sk-item\"><div class=\"sk-estimator sk-toggleable\"><input class=\"sk-toggleable__control sk-hidden--visually\" id=\"fa6cd55c-b72d-4ea4-b9b7-f6cf4208cc72\" type=\"checkbox\" ><label for=\"fa6cd55c-b72d-4ea4-b9b7-f6cf4208cc72\" class=\"sk-toggleable__label sk-toggleable__label-arrow\">OneHotEncoder</label><div class=\"sk-toggleable__content\"><pre>OneHotEncoder(handle_unknown=&#x27;ignore&#x27;)</pre></div></div></div></div></div></div></div></div></div></div></div><div class=\"sk-parallel-item\"><div class=\"sk-item\"><div class=\"sk-label-container\"><div class=\"sk-label sk-toggleable\"><label>custom_tr</label></div></div><div class=\"sk-serial\"><div class=\"sk-item\"><div class=\"sk-serial\"><div class=\"sk-item sk-dashed-wrapped\"><div class=\"sk-label-container\"><div class=\"sk-label sk-toggleable\"><input class=\"sk-toggleable__control sk-hidden--visually\" id=\"6696d1e8-24e0-4c11-b673-53c4931c347e\" type=\"checkbox\" ><label for=\"6696d1e8-24e0-4c11-b673-53c4931c347e\" class=\"sk-toggleable__label sk-toggleable__label-arrow\">union_custom_transformer: FeatureUnion</label><div class=\"sk-toggleable__content\"><pre>FeatureUnion(transformer_list=[(&#x27;coteng&#x27;,\n",
       "                                FunctionTransformer(func=&lt;function convert_to_coteng at 0x7f522013eb80&gt;)),\n",
       "                               (&#x27;depth_toe&#x27;,\n",
       "                                FunctionTransformer(func=&lt;function &lt;lambda&gt; at 0x7f522015c310&gt;)),\n",
       "                               (&#x27;structure_height&#x27;,\n",
       "                                FunctionTransformer(func=&lt;function &lt;lambda&gt; at 0x7f521fa12280&gt;)),\n",
       "                               (&#x27;relative_density&#x27;,\n",
       "                                FunctionTransformer(func=&lt;function &lt;lambda&gt; at 0x7f521f984790&gt;))])</pre></div></div></div><div class=\"sk-parallel\"><div class=\"sk-parallel-item\"><div class=\"sk-item\"><div class=\"sk-label-container\"><div class=\"sk-label sk-toggleable\"><label>coteng</label></div></div><div class=\"sk-serial\"><div class=\"sk-item\"><div class=\"sk-estimator sk-toggleable\"><input class=\"sk-toggleable__control sk-hidden--visually\" id=\"928249de-01dc-4f76-87eb-7671bbdcb28e\" type=\"checkbox\" ><label for=\"928249de-01dc-4f76-87eb-7671bbdcb28e\" class=\"sk-toggleable__label sk-toggleable__label-arrow\">FunctionTransformer</label><div class=\"sk-toggleable__content\"><pre>FunctionTransformer(func=&lt;function convert_to_coteng at 0x7f522013eb80&gt;)</pre></div></div></div></div></div></div><div class=\"sk-parallel-item\"><div class=\"sk-item\"><div class=\"sk-label-container\"><div class=\"sk-label sk-toggleable\"><label>depth_toe</label></div></div><div class=\"sk-serial\"><div class=\"sk-item\"><div class=\"sk-estimator sk-toggleable\"><input class=\"sk-toggleable__control sk-hidden--visually\" id=\"edd8cf98-ca15-49e3-bb7b-95b381e7ca6b\" type=\"checkbox\" ><label for=\"edd8cf98-ca15-49e3-bb7b-95b381e7ca6b\" class=\"sk-toggleable__label sk-toggleable__label-arrow\">FunctionTransformer</label><div class=\"sk-toggleable__content\"><pre>FunctionTransformer(func=&lt;function &lt;lambda&gt; at 0x7f522015c310&gt;)</pre></div></div></div></div></div></div><div class=\"sk-parallel-item\"><div class=\"sk-item\"><div class=\"sk-label-container\"><div class=\"sk-label sk-toggleable\"><label>structure_height</label></div></div><div class=\"sk-serial\"><div class=\"sk-item\"><div class=\"sk-estimator sk-toggleable\"><input class=\"sk-toggleable__control sk-hidden--visually\" id=\"16594137-3a47-408e-8e52-0ef78bfa2d1a\" type=\"checkbox\" ><label for=\"16594137-3a47-408e-8e52-0ef78bfa2d1a\" class=\"sk-toggleable__label sk-toggleable__label-arrow\">FunctionTransformer</label><div class=\"sk-toggleable__content\"><pre>FunctionTransformer(func=&lt;function &lt;lambda&gt; at 0x7f521fa12280&gt;)</pre></div></div></div></div></div></div><div class=\"sk-parallel-item\"><div class=\"sk-item\"><div class=\"sk-label-container\"><div class=\"sk-label sk-toggleable\"><label>relative_density</label></div></div><div class=\"sk-serial\"><div class=\"sk-item\"><div class=\"sk-estimator sk-toggleable\"><input class=\"sk-toggleable__control sk-hidden--visually\" id=\"f0706e8c-24f0-4729-bf6a-41a3f89e6f14\" type=\"checkbox\" ><label for=\"f0706e8c-24f0-4729-bf6a-41a3f89e6f14\" class=\"sk-toggleable__label sk-toggleable__label-arrow\">FunctionTransformer</label><div class=\"sk-toggleable__content\"><pre>FunctionTransformer(func=&lt;function &lt;lambda&gt; at 0x7f521f984790&gt;)</pre></div></div></div></div></div></div></div></div><div class=\"sk-item\"><div class=\"sk-estimator sk-toggleable\"><input class=\"sk-toggleable__control sk-hidden--visually\" id=\"d17c04a7-46bf-4a0d-a7dd-f0cb9a2b96a5\" type=\"checkbox\" ><label for=\"d17c04a7-46bf-4a0d-a7dd-f0cb9a2b96a5\" class=\"sk-toggleable__label sk-toggleable__label-arrow\">RobustScaler</label><div class=\"sk-toggleable__content\"><pre>RobustScaler()</pre></div></div></div></div></div></div></div></div></div></div><div class=\"sk-item\"><div class=\"sk-estimator sk-toggleable\"><input class=\"sk-toggleable__control sk-hidden--visually\" id=\"c8f66eb7-8a41-4e4f-8e5e-01a5447f473a\" type=\"checkbox\" ><label for=\"c8f66eb7-8a41-4e4f-8e5e-01a5447f473a\" class=\"sk-toggleable__label sk-toggleable__label-arrow\">KerasRegressor</label><div class=\"sk-toggleable__content\"><pre>&lt;keras.wrappers.scikit_learn.KerasRegressor object at 0x7f516744a520&gt;</pre></div></div></div></div></div></div></div>"
      ],
      "text/plain": [
       "Pipeline(steps=[('preprocess',\n",
       "                 FeatureUnion(transformer_list=[('preprocess',\n",
       "                                                 ColumnTransformer(transformers=[('num_tr',\n",
       "                                                                                  Pipeline(steps=[('scaler',\n",
       "                                                                                                   RobustScaler())]),\n",
       "                                                                                  ['Armour '\n",
       "                                                                                   'Mass '\n",
       "                                                                                   '[kg]',\n",
       "                                                                                   'Significant '\n",
       "                                                                                   'Wave '\n",
       "                                                                                   'Height '\n",
       "                                                                                   'at '\n",
       "                                                                                   'Toe '\n",
       "                                                                                   '[m]',\n",
       "                                                                                   'Peak '\n",
       "                                                                                   'Wave '\n",
       "                                                                                   'Period '\n",
       "                                                                                   '[s]',\n",
       "                                                                                   'Number '\n",
       "                                                                                   'of '\n",
       "                                                                                   'Waves '\n",
       "                                                                                   '[-]',\n",
       "                                                                                   'Notional '\n",
       "                                                                                   'Permeability '\n",
       "                                                                                   '[-]']),\n",
       "                                                                                 ('cat_tr',\n",
       "                                                                                  OneHotEncoder(handle_unknown='ig...\n",
       "                                                                                                 ('depth_toe',\n",
       "                                                                                                  FunctionTransformer(func=<function <lambda> at 0x7f522015c310>)),\n",
       "                                                                                                 ('structure_height',\n",
       "                                                                                                  FunctionTransformer(func=<function <lambda> at 0x7f521fa12280>)),\n",
       "                                                                                                 ('relative_density',\n",
       "                                                                                                  FunctionTransformer(func=<function <lambda> at 0x7f521f984790>))])),\n",
       "                                                                 ('scaler_custom',\n",
       "                                                                  RobustScaler())]))])),\n",
       "                ('clf',\n",
       "                 <keras.wrappers.scikit_learn.KerasRegressor object at 0x7f516744a520>)])"
      ]
     },
     "execution_count": 58,
     "metadata": {},
     "output_type": "execute_result"
    }
   ],
   "source": [
    "pipeline.fit(X_train,y_train)"
   ]
  },
  {
   "cell_type": "code",
   "execution_count": 59,
   "metadata": {},
   "outputs": [
    {
     "name": "stdout",
     "output_type": "stream",
     "text": [
      "Fitting 5 folds for each of 9 candidates, totalling 45 fits\n",
      "[CV] END clf__dropout=0.12, clf__epochs=200, clf__kernel_initializer=glorot_uniform, clf__optimizer=adam; total time=  20.4s\n",
      "[CV] END clf__dropout=0.12, clf__epochs=200, clf__kernel_initializer=glorot_uniform, clf__optimizer=adam; total time=  20.3s\n",
      "[CV] END clf__dropout=0.12, clf__epochs=200, clf__kernel_initializer=glorot_uniform, clf__optimizer=adam; total time=  20.8s\n",
      "[CV] END clf__dropout=0.12, clf__epochs=200, clf__kernel_initializer=glorot_uniform, clf__optimizer=adam; total time=  21.3s\n",
      "[CV] END clf__dropout=0.12, clf__epochs=200, clf__kernel_initializer=glorot_uniform, clf__optimizer=adam; total time=  20.2s\n",
      "[CV] END clf__dropout=0.12, clf__epochs=250, clf__kernel_initializer=glorot_uniform, clf__optimizer=adam; total time=  25.7s\n",
      "[CV] END clf__dropout=0.12, clf__epochs=250, clf__kernel_initializer=glorot_uniform, clf__optimizer=adam; total time=  25.2s\n",
      "[CV] END clf__dropout=0.12, clf__epochs=250, clf__kernel_initializer=glorot_uniform, clf__optimizer=adam; total time=  26.2s\n",
      "[CV] END clf__dropout=0.12, clf__epochs=250, clf__kernel_initializer=glorot_uniform, clf__optimizer=adam; total time=  26.5s\n",
      "[CV] END clf__dropout=0.12, clf__epochs=250, clf__kernel_initializer=glorot_uniform, clf__optimizer=adam; total time=  25.8s\n",
      "[CV] END clf__dropout=0.12, clf__epochs=300, clf__kernel_initializer=glorot_uniform, clf__optimizer=adam; total time=  30.4s\n",
      "[CV] END clf__dropout=0.12, clf__epochs=300, clf__kernel_initializer=glorot_uniform, clf__optimizer=adam; total time=  30.8s\n",
      "[CV] END clf__dropout=0.12, clf__epochs=300, clf__kernel_initializer=glorot_uniform, clf__optimizer=adam; total time=  33.5s\n",
      "[CV] END clf__dropout=0.12, clf__epochs=300, clf__kernel_initializer=glorot_uniform, clf__optimizer=adam; total time=  29.7s\n",
      "[CV] END clf__dropout=0.12, clf__epochs=300, clf__kernel_initializer=glorot_uniform, clf__optimizer=adam; total time=  30.1s\n",
      "[CV] END clf__dropout=0.15, clf__epochs=200, clf__kernel_initializer=glorot_uniform, clf__optimizer=adam; total time=  20.8s\n",
      "[CV] END clf__dropout=0.15, clf__epochs=200, clf__kernel_initializer=glorot_uniform, clf__optimizer=adam; total time=  20.0s\n",
      "[CV] END clf__dropout=0.15, clf__epochs=200, clf__kernel_initializer=glorot_uniform, clf__optimizer=adam; total time=  20.7s\n",
      "[CV] END clf__dropout=0.15, clf__epochs=200, clf__kernel_initializer=glorot_uniform, clf__optimizer=adam; total time=  20.9s\n",
      "[CV] END clf__dropout=0.15, clf__epochs=200, clf__kernel_initializer=glorot_uniform, clf__optimizer=adam; total time=  20.5s\n",
      "[CV] END clf__dropout=0.15, clf__epochs=250, clf__kernel_initializer=glorot_uniform, clf__optimizer=adam; total time=  25.8s\n",
      "[CV] END clf__dropout=0.15, clf__epochs=250, clf__kernel_initializer=glorot_uniform, clf__optimizer=adam; total time=  26.2s\n",
      "[CV] END clf__dropout=0.15, clf__epochs=250, clf__kernel_initializer=glorot_uniform, clf__optimizer=adam; total time=  25.9s\n",
      "[CV] END clf__dropout=0.15, clf__epochs=250, clf__kernel_initializer=glorot_uniform, clf__optimizer=adam; total time=  25.7s\n",
      "[CV] END clf__dropout=0.15, clf__epochs=250, clf__kernel_initializer=glorot_uniform, clf__optimizer=adam; total time=  25.5s\n",
      "[CV] END clf__dropout=0.15, clf__epochs=300, clf__kernel_initializer=glorot_uniform, clf__optimizer=adam; total time=  31.6s\n",
      "[CV] END clf__dropout=0.15, clf__epochs=300, clf__kernel_initializer=glorot_uniform, clf__optimizer=adam; total time=  32.5s\n",
      "[CV] END clf__dropout=0.15, clf__epochs=300, clf__kernel_initializer=glorot_uniform, clf__optimizer=adam; total time=  30.3s\n",
      "[CV] END clf__dropout=0.15, clf__epochs=300, clf__kernel_initializer=glorot_uniform, clf__optimizer=adam; total time=  30.7s\n",
      "[CV] END clf__dropout=0.15, clf__epochs=300, clf__kernel_initializer=glorot_uniform, clf__optimizer=adam; total time=  31.6s\n",
      "[CV] END clf__dropout=0.18, clf__epochs=200, clf__kernel_initializer=glorot_uniform, clf__optimizer=adam; total time=  22.0s\n",
      "[CV] END clf__dropout=0.18, clf__epochs=200, clf__kernel_initializer=glorot_uniform, clf__optimizer=adam; total time=  20.6s\n",
      "[CV] END clf__dropout=0.18, clf__epochs=200, clf__kernel_initializer=glorot_uniform, clf__optimizer=adam; total time=  21.3s\n",
      "[CV] END clf__dropout=0.18, clf__epochs=200, clf__kernel_initializer=glorot_uniform, clf__optimizer=adam; total time=  21.0s\n",
      "[CV] END clf__dropout=0.18, clf__epochs=200, clf__kernel_initializer=glorot_uniform, clf__optimizer=adam; total time=  21.8s\n",
      "[CV] END clf__dropout=0.18, clf__epochs=250, clf__kernel_initializer=glorot_uniform, clf__optimizer=adam; total time=  26.0s\n",
      "[CV] END clf__dropout=0.18, clf__epochs=250, clf__kernel_initializer=glorot_uniform, clf__optimizer=adam; total time=  26.8s\n",
      "[CV] END clf__dropout=0.18, clf__epochs=250, clf__kernel_initializer=glorot_uniform, clf__optimizer=adam; total time=  27.7s\n",
      "[CV] END clf__dropout=0.18, clf__epochs=250, clf__kernel_initializer=glorot_uniform, clf__optimizer=adam; total time=  27.8s\n",
      "[CV] END clf__dropout=0.18, clf__epochs=250, clf__kernel_initializer=glorot_uniform, clf__optimizer=adam; total time=  27.6s\n",
      "[CV] END clf__dropout=0.18, clf__epochs=300, clf__kernel_initializer=glorot_uniform, clf__optimizer=adam; total time=  32.2s\n",
      "[CV] END clf__dropout=0.18, clf__epochs=300, clf__kernel_initializer=glorot_uniform, clf__optimizer=adam; total time=  30.3s\n",
      "[CV] END clf__dropout=0.18, clf__epochs=300, clf__kernel_initializer=glorot_uniform, clf__optimizer=adam; total time=  30.8s\n",
      "[CV] END clf__dropout=0.18, clf__epochs=300, clf__kernel_initializer=glorot_uniform, clf__optimizer=adam; total time=  30.8s\n",
      "[CV] END clf__dropout=0.18, clf__epochs=300, clf__kernel_initializer=glorot_uniform, clf__optimizer=adam; total time=  30.6s\n",
      "Best: -8.254163 using {'clf__dropout': 0.12, 'clf__epochs': 250, 'clf__kernel_initializer': 'glorot_uniform', 'clf__optimizer': 'adam'}\n",
      "-8.627163 (1.064258) with: {'clf__dropout': 0.12, 'clf__epochs': 200, 'clf__kernel_initializer': 'glorot_uniform', 'clf__optimizer': 'adam'}\n",
      "-8.254163 (1.076068) with: {'clf__dropout': 0.12, 'clf__epochs': 250, 'clf__kernel_initializer': 'glorot_uniform', 'clf__optimizer': 'adam'}\n",
      "-8.354015 (1.386982) with: {'clf__dropout': 0.12, 'clf__epochs': 300, 'clf__kernel_initializer': 'glorot_uniform', 'clf__optimizer': 'adam'}\n",
      "-8.878821 (1.324534) with: {'clf__dropout': 0.15, 'clf__epochs': 200, 'clf__kernel_initializer': 'glorot_uniform', 'clf__optimizer': 'adam'}\n",
      "-8.786086 (1.790613) with: {'clf__dropout': 0.15, 'clf__epochs': 250, 'clf__kernel_initializer': 'glorot_uniform', 'clf__optimizer': 'adam'}\n",
      "-8.624334 (2.136816) with: {'clf__dropout': 0.15, 'clf__epochs': 300, 'clf__kernel_initializer': 'glorot_uniform', 'clf__optimizer': 'adam'}\n",
      "-8.595234 (1.442500) with: {'clf__dropout': 0.18, 'clf__epochs': 200, 'clf__kernel_initializer': 'glorot_uniform', 'clf__optimizer': 'adam'}\n",
      "-8.568356 (1.441822) with: {'clf__dropout': 0.18, 'clf__epochs': 250, 'clf__kernel_initializer': 'glorot_uniform', 'clf__optimizer': 'adam'}\n",
      "-8.912289 (1.141390) with: {'clf__dropout': 0.18, 'clf__epochs': 300, 'clf__kernel_initializer': 'glorot_uniform', 'clf__optimizer': 'adam'}\n"
     ]
    }
   ],
   "source": [
    "# if you're not using a GPU, you can set n_jobs to something other than 1\n",
    "grid = GridSearchCV(pipeline, cv=5, param_grid=param_grid, verbose = 2)\n",
    "grid.fit(X_train, y_train)\n",
    "\n",
    "# summaraize results\n",
    "print(\"Best: %f using %s\" % (grid.best_score_, grid.best_params_))\n",
    "means = grid.cv_results_['mean_test_score']\n",
    "stds = grid.cv_results_['std_test_score']\n",
    "params = grid.cv_results_['params']\n",
    "for mean, stdev, param in zip(means, stds, params):\n",
    "    print(\"%f (%f) with: %r\" % (mean, stdev, param))"
   ]
  },
  {
   "cell_type": "code",
   "execution_count": 60,
   "metadata": {},
   "outputs": [
    {
     "data": {
      "text/plain": [
       "array([ 2.191262  ,  7.0533614 , 11.530787  , ...,  0.19418392,\n",
       "        5.249152  ,  2.5468755 ], dtype=float32)"
      ]
     },
     "execution_count": 60,
     "metadata": {},
     "output_type": "execute_result"
    }
   ],
   "source": [
    "grid.predict(X_test)"
   ]
  },
  {
   "cell_type": "code",
   "execution_count": 61,
   "metadata": {},
   "outputs": [
    {
     "data": {
      "text/plain": [
       "[<matplotlib.lines.Line2D at 0x7f51570409a0>]"
      ]
     },
     "execution_count": 61,
     "metadata": {},
     "output_type": "execute_result"
    },
    {
     "data": {
      "image/png": "[encoded data removed]",
      "text/plain": [
       "<Figure size 432x288 with 1 Axes>"
      ]
     },
     "metadata": {
      "needs_background": "light"
     },
     "output_type": "display_data"
    }
   ],
   "source": [
    "mask1 = X_test['Armour Type'] == 'ROCK'\n",
    "mask2 = X_test['Armour Type'] == 'XBLOCK'\n",
    "mask3 = X_test['Armour Type'] == 'HANBAR'\n",
    "\n",
    "plt.plot(grid.predict(X_test[mask1]),y_test[mask1], marker = '.', linewidth = 0)\n",
    "plt.plot(grid.predict(X_test[mask2]),y_test[mask2], marker = '.', linewidth = 0)\n",
    "plt.plot(grid.predict(X_test[mask3]),y_test[mask3], marker = '.', linewidth = 0)"
   ]
  },
  {
   "cell_type": "code",
   "execution_count": 62,
   "metadata": {},
   "outputs": [
    {
     "data": {
      "text/plain": [
       "[<matplotlib.lines.Line2D at 0x7f5154b000d0>]"
      ]
     },
     "execution_count": 62,
     "metadata": {},
     "output_type": "execute_result"
    },
    {
     "data": {
      "image/png": "[encoded data removed]",
      "text/plain": [
       "<Figure size 432x288 with 1 Axes>"
      ]
     },
     "metadata": {
      "needs_background": "light"
     },
     "output_type": "display_data"
    }
   ],
   "source": [
    "plt.plot(grid.predict(X_test[mask2]),y_test[mask2], marker = '.', linewidth = 0)"
   ]
  },
  {
   "cell_type": "code",
   "execution_count": 63,
   "metadata": {},
   "outputs": [
    {
     "data": {
      "text/plain": [
       "[<matplotlib.lines.Line2D at 0x7f510002a5e0>]"
      ]
     },
     "execution_count": 63,
     "metadata": {},
     "output_type": "execute_result"
    },
    {
     "data": {
      "image/png": "[encoded data removed]",
      "text/plain": [
       "<Figure size 432x288 with 1 Axes>"
      ]
     },
     "metadata": {
      "needs_background": "light"
     },
     "output_type": "display_data"
    }
   ],
   "source": [
    "plt.plot(grid.predict(X_test[mask3]),y_test[mask3], marker = '.', linewidth = 0)"
   ]
  },
  {
   "cell_type": "code",
   "execution_count": 64,
   "metadata": {},
   "outputs": [
    {
     "data": {
      "text/plain": [
       "{'clf__dropout': 0.12,\n",
       " 'clf__epochs': 250,\n",
       " 'clf__kernel_initializer': 'glorot_uniform',\n",
       " 'clf__optimizer': 'adam'}"
      ]
     },
     "execution_count": 64,
     "metadata": {},
     "output_type": "execute_result"
    }
   ],
   "source": [
    "grid.best_params_"
   ]
  },
  {
   "cell_type": "code",
   "execution_count": 65,
   "metadata": {},
   "outputs": [],
   "source": [
    "y_pred = grid.best_estimator_.predict(X_test)"
   ]
  },
  {
   "cell_type": "code",
   "execution_count": 66,
   "metadata": {},
   "outputs": [
    {
     "data": {
      "text/plain": [
       "[<matplotlib.lines.Line2D at 0x7f5167a32c40>]"
      ]
     },
     "execution_count": 66,
     "metadata": {},
     "output_type": "execute_result"
    },
    {
     "data": {
      "image/png": "[encoded data removed]",
      "text/plain": [
       "<Figure size 432x288 with 1 Axes>"
      ]
     },
     "metadata": {
      "needs_background": "light"
     },
     "output_type": "display_data"
    }
   ],
   "source": [
    "plt.plot(y_pred,y_test, marker = '.', linewidth = 0)"
   ]
  },
  {
   "cell_type": "code",
   "execution_count": 67,
   "metadata": {},
   "outputs": [
    {
     "name": "stdout",
     "output_type": "stream",
     "text": [
      "2.6601712953855876\n"
     ]
    },
    {
     "data": {
      "image/png": "[encoded data removed]",
      "text/plain": [
       "<Figure size 432x288 with 1 Axes>"
      ]
     },
     "metadata": {
      "needs_background": "light"
     },
     "output_type": "display_data"
    }
   ],
   "source": [
    "y_pred = grid.best_estimator_.predict(X_test)\n",
    "plt.plot(y_pred,y_test, marker = '.', linewidth = 0)\n",
    "\n",
    "print(np.sqrt(mean_squared_error(y_test, y_pred)))"
   ]
  },
  {
   "cell_type": "code",
   "execution_count": 69,
   "metadata": {},
   "outputs": [
    {
     "name": "stdout",
     "output_type": "stream",
     "text": [
      "3.0387842058756362\n"
     ]
    }
   ],
   "source": [
    "print(np.sqrt(mean_squared_error(y_test[mask1], y_pred[mask1])))"
   ]
  },
  {
   "cell_type": "code",
   "execution_count": 70,
   "metadata": {},
   "outputs": [
    {
     "name": "stdout",
     "output_type": "stream",
     "text": [
      "0.6819183811635607\n"
     ]
    }
   ],
   "source": [
    "print(np.sqrt(mean_squared_error(y_test[mask2], y_pred[mask2])))"
   ]
  },
  {
   "cell_type": "code",
   "execution_count": 71,
   "metadata": {},
   "outputs": [
    {
     "name": "stdout",
     "output_type": "stream",
     "text": [
      "4.772586072701925\n"
     ]
    }
   ],
   "source": [
    "print(np.sqrt(mean_squared_error(y_test[mask3], y_pred[mask3])))"
   ]
  },
  {
   "cell_type": "code",
   "execution_count": null,
   "metadata": {},
   "outputs": [],
   "source": []
  }
 ],
 "metadata": {
  "kernelspec": {
   "display_name": "Python 3 (ipykernel)",
   "language": "python",
   "name": "python3"
  },
  "language_info": {
   "codemirror_mode": {
    "name": "ipython",
    "version": 3
   },
   "file_extension": ".py",
   "mimetype": "text/x-python",
   "name": "python",
   "nbconvert_exporter": "python",
   "pygments_lexer": "ipython3",
   "version": "3.8.12"
  }
 },
 "nbformat": 4,
 "nbformat_minor": 4
}
